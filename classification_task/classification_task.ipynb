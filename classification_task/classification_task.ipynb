{
  "cells": [
    {
      "cell_type": "markdown",
      "source": [
        "# **Задание**\n",
        "\n",
        "На основании имеющихся данных о клиентах банка требуется построить модель для прогнозирования невыполнения долговых обязательств по текущему кредиту, используя обучающий датасет. Выполнить прогноз для примеров из тестового датасета.\n",
        "\n",
        "**Исходные данные:**\n",
        "\n",
        "course_project_train.csv - обучающий датасет\n",
        "\n",
        "course_project_test.csv - тестовый датасет\n",
        "\n",
        "**Целевая переменная:**\n",
        "\n",
        "Credit Default - факт невыполнения кредитных обязательств\n",
        "\n",
        "**Метрика качества:**\n",
        "\n",
        "F1-score\n",
        "\n",
        "**Требования к решению:**\n",
        "\n",
        "F1( 𝛽  = 1) > 0.5 при Precision > 0.5 и Recall > 0.5\n",
        "\n",
        "Метрика оценивается по качеству прогноза для главного класса (1 - просрочка по кредиту)\n",
        "\n",
        "**Решение должно содержать:**\n",
        "\n",
        "Тетрадка Jupyter Notebook с кодом Вашего решения, названная по образцу {ФИО}_solution.ipynb, пример SShirkin_solution.ipynb\n",
        "Файл CSV с прогнозами целевой переменной для тестового датасета, названный по образцу {ФИО}_predictions.csv, пример SShirkin_predictions.csv\n",
        "Рекомендации для файла с кодом (ipynb)\n",
        "\n",
        "Файл должен содержать заголовки и комментарии (markdown).\n",
        "Повторяющиеся операции лучше оформлять в виде функций.\n",
        "Не делать вывод большого количества строк таблиц (5-10 достаточно).\n",
        "По возможности добавлять графики, описывающие данные (около 3-5).\n",
        "\n",
        "Добавлять только лучшую модель, то есть не включать в код все варианты решения проекта.\n",
        "\n",
        "Скрипт проекта должен отрабатывать от начала и до конца (от загрузки данных до выгрузки предсказаний)\n",
        "Весь проект должен быть в одном скрипте (файл ipynb).\n",
        "Допускается применение библиотек Python и моделей машинного обучения, которые были в данном курсе."
      ],
      "metadata": {
        "id": "eFfbgrB37CNI"
      },
      "id": "eFfbgrB37CNI"
    },
    {
      "cell_type": "markdown",
      "source": [
        "**Описание датасета**\n",
        "\n",
        "* **Home Ownership** - домовладение\n",
        "* **Annual Income** - годовой доход\n",
        "* **Years in current job** - количество лет на текущем месте работы\n",
        "* **Tax Liens** - налоговые обременения\n",
        "* **Number of Open Accounts** - количество открытых счетов\n",
        "* **Years of Credit History** - количество лет кредитной истории\n",
        "* **Maximum Open Credit** - наибольший открытый кредит\n",
        "* **Number of Credit Problems** - количество проблем с кредитом\n",
        "* **Months since last delinquent** - количество месяцев с последней просрочки платежа\n",
        "* **Bankruptcies** - банкротства\n",
        "* **Purpose** - цель кредита\n",
        "* **Term** - срок кредита\n",
        "* **Current Loan Amount** - текущая сумма кредита\n",
        "* **Current Credit Balance** - текущий кредитный баланс\n",
        "* **Monthly Debt** - ежемесячный долг\n",
        "* **Credit Score** - кредитный рейтинг\n",
        "* **Credit Default** - факт невыполнения кредитных обязательств (0 - погашен вовремя, 1 - просрочка)"
      ],
      "metadata": {
        "id": "PLMjdI5U7rYw"
      },
      "id": "PLMjdI5U7rYw"
    },
    {
      "cell_type": "markdown",
      "source": [
        "# **Импорт библиотек и исходных данных**"
      ],
      "metadata": {
        "id": "SiCTwUba7aui"
      },
      "id": "SiCTwUba7aui"
    },
    {
      "cell_type": "code",
      "source": [
        "! pip install CatBoost"
      ],
      "metadata": {
        "colab": {
          "base_uri": "https://localhost:8080/"
        },
        "id": "dkhRA-ufWFkN",
        "outputId": "617da2c9-baaf-4a94-ae5d-9690eb797894"
      },
      "id": "dkhRA-ufWFkN",
      "execution_count": 1,
      "outputs": [
        {
          "output_type": "stream",
          "name": "stdout",
          "text": [
            "Looking in indexes: https://pypi.org/simple, https://us-python.pkg.dev/colab-wheels/public/simple/\n",
            "Requirement already satisfied: CatBoost in /usr/local/lib/python3.10/dist-packages (1.2)\n",
            "Requirement already satisfied: six in /usr/local/lib/python3.10/dist-packages (from CatBoost) (1.16.0)\n",
            "Requirement already satisfied: numpy>=1.16.0 in /usr/local/lib/python3.10/dist-packages (from CatBoost) (1.22.4)\n",
            "Requirement already satisfied: graphviz in /usr/local/lib/python3.10/dist-packages (from CatBoost) (0.20.1)\n",
            "Requirement already satisfied: matplotlib in /usr/local/lib/python3.10/dist-packages (from CatBoost) (3.7.1)\n",
            "Requirement already satisfied: pandas>=0.24 in /usr/local/lib/python3.10/dist-packages (from CatBoost) (1.5.3)\n",
            "Requirement already satisfied: plotly in /usr/local/lib/python3.10/dist-packages (from CatBoost) (5.13.1)\n",
            "Requirement already satisfied: scipy in /usr/local/lib/python3.10/dist-packages (from CatBoost) (1.10.1)\n",
            "Requirement already satisfied: pytz>=2020.1 in /usr/local/lib/python3.10/dist-packages (from pandas>=0.24->CatBoost) (2022.7.1)\n",
            "Requirement already satisfied: python-dateutil>=2.8.1 in /usr/local/lib/python3.10/dist-packages (from pandas>=0.24->CatBoost) (2.8.2)\n",
            "Requirement already satisfied: fonttools>=4.22.0 in /usr/local/lib/python3.10/dist-packages (from matplotlib->CatBoost) (4.39.3)\n",
            "Requirement already satisfied: kiwisolver>=1.0.1 in /usr/local/lib/python3.10/dist-packages (from matplotlib->CatBoost) (1.4.4)\n",
            "Requirement already satisfied: packaging>=20.0 in /usr/local/lib/python3.10/dist-packages (from matplotlib->CatBoost) (23.1)\n",
            "Requirement already satisfied: pillow>=6.2.0 in /usr/local/lib/python3.10/dist-packages (from matplotlib->CatBoost) (8.4.0)\n",
            "Requirement already satisfied: pyparsing>=2.3.1 in /usr/local/lib/python3.10/dist-packages (from matplotlib->CatBoost) (3.0.9)\n",
            "Requirement already satisfied: contourpy>=1.0.1 in /usr/local/lib/python3.10/dist-packages (from matplotlib->CatBoost) (1.0.7)\n",
            "Requirement already satisfied: cycler>=0.10 in /usr/local/lib/python3.10/dist-packages (from matplotlib->CatBoost) (0.11.0)\n",
            "Requirement already satisfied: tenacity>=6.2.0 in /usr/local/lib/python3.10/dist-packages (from plotly->CatBoost) (8.2.2)\n"
          ]
        }
      ]
    },
    {
      "cell_type": "code",
      "execution_count": 2,
      "id": "c5e76724",
      "metadata": {
        "execution": {
          "iopub.execute_input": "2021-08-18T17:19:53.550031Z",
          "iopub.status.busy": "2021-08-18T17:19:53.549056Z",
          "iopub.status.idle": "2021-08-18T17:19:56.075961Z",
          "shell.execute_reply": "2021-08-18T17:19:56.075467Z",
          "shell.execute_reply.started": "2021-08-18T17:12:04.025328Z"
        },
        "papermill": {
          "duration": 2.572662,
          "end_time": "2021-08-18T17:19:56.076094",
          "exception": false,
          "start_time": "2021-08-18T17:19:53.503432",
          "status": "completed"
        },
        "tags": [],
        "id": "c5e76724"
      },
      "outputs": [],
      "source": [
        "import pandas as pd\n",
        "import numpy as np\n",
        "import pickle\n",
        "import random\n",
        "\n",
        "from sklearn.preprocessing import StandardScaler, MinMaxScaler\n",
        "from sklearn.model_selection import train_test_split, ShuffleSplit, cross_val_score, learning_curve\n",
        "from sklearn.model_selection import KFold, GridSearchCV, RandomizedSearchCV\n",
        "from sklearn.metrics import classification_report, f1_score, precision_score, recall_score\n",
        "\n",
        "from sklearn.linear_model import LogisticRegression\n",
        "from sklearn.neighbors import KNeighborsClassifier\n",
        "import xgboost as xgb, lightgbm as lgbm, catboost as catb\n",
        "\n",
        "\n",
        "import matplotlib\n",
        "import matplotlib.pyplot as plt\n",
        "import seaborn as sns\n",
        "%matplotlib inline"
      ]
    },
    {
      "cell_type": "code",
      "execution_count": 3,
      "id": "b6fdd2d6",
      "metadata": {
        "execution": {
          "iopub.execute_input": "2021-08-18T17:19:56.167529Z",
          "iopub.status.busy": "2021-08-18T17:19:56.166844Z",
          "iopub.status.idle": "2021-08-18T17:19:56.169653Z",
          "shell.execute_reply": "2021-08-18T17:19:56.169005Z",
          "shell.execute_reply.started": "2021-08-18T17:12:06.583911Z"
        },
        "papermill": {
          "duration": 0.05106,
          "end_time": "2021-08-18T17:19:56.169782",
          "exception": false,
          "start_time": "2021-08-18T17:19:56.118722",
          "status": "completed"
        },
        "tags": [],
        "id": "b6fdd2d6"
      },
      "outputs": [],
      "source": [
        "import warnings\n",
        "warnings.filterwarnings('ignore')\n",
        "matplotlib.rcParams.update({'font.size': 14})"
      ]
    },
    {
      "cell_type": "markdown",
      "id": "ce4f5ffe",
      "metadata": {
        "papermill": {
          "duration": 0.043276,
          "end_time": "2021-08-18T17:19:56.256503",
          "exception": false,
          "start_time": "2021-08-18T17:19:56.213227",
          "status": "completed"
        },
        "tags": [],
        "id": "ce4f5ffe"
      },
      "source": [
        "**Пути к файлам**"
      ]
    },
    {
      "cell_type": "code",
      "execution_count": 4,
      "id": "ed6fa82e",
      "metadata": {
        "execution": {
          "iopub.execute_input": "2021-08-18T17:19:56.346553Z",
          "iopub.status.busy": "2021-08-18T17:19:56.345891Z",
          "iopub.status.idle": "2021-08-18T17:19:56.348891Z",
          "shell.execute_reply": "2021-08-18T17:19:56.348430Z",
          "shell.execute_reply.started": "2021-08-18T17:12:06.590056Z"
        },
        "papermill": {
          "duration": 0.049726,
          "end_time": "2021-08-18T17:19:56.349018",
          "exception": false,
          "start_time": "2021-08-18T17:19:56.299292",
          "status": "completed"
        },
        "tags": [],
        "id": "ed6fa82e"
      },
      "outputs": [],
      "source": [
        "TRAIN_DATASET_PATH = '/content/sample_data/course_project_train.csv'\n",
        "TEST_DATASET_PATH = '/content/sample_data/course_project_test.csv'"
      ]
    },
    {
      "cell_type": "code",
      "execution_count": 5,
      "id": "98e13fc5",
      "metadata": {
        "execution": {
          "iopub.execute_input": "2021-08-18T17:19:56.439213Z",
          "iopub.status.busy": "2021-08-18T17:19:56.438535Z",
          "iopub.status.idle": "2021-08-18T17:19:56.517158Z",
          "shell.execute_reply": "2021-08-18T17:19:56.516658Z",
          "shell.execute_reply.started": "2021-08-18T17:12:06.602352Z"
        },
        "papermill": {
          "duration": 0.12564,
          "end_time": "2021-08-18T17:19:56.517293",
          "exception": false,
          "start_time": "2021-08-18T17:19:56.391653",
          "status": "completed"
        },
        "tags": [],
        "colab": {
          "base_uri": "https://localhost:8080/",
          "height": 372
        },
        "id": "98e13fc5",
        "outputId": "75cfba5c-e5a5-4699-b677-525cb5a76400"
      },
      "outputs": [
        {
          "output_type": "execute_result",
          "data": {
            "text/plain": [
              "  Home Ownership  Annual Income Years in current job  Tax Liens  \\\n",
              "0       Own Home       482087.0                  NaN        0.0   \n",
              "1       Own Home      1025487.0            10+ years        0.0   \n",
              "2  Home Mortgage       751412.0              8 years        0.0   \n",
              "3       Own Home       805068.0              6 years        0.0   \n",
              "4           Rent       776264.0              8 years        0.0   \n",
              "\n",
              "   Number of Open Accounts  Years of Credit History  Maximum Open Credit  \\\n",
              "0                     11.0                     26.3             685960.0   \n",
              "1                     15.0                     15.3            1181730.0   \n",
              "2                     11.0                     35.0            1182434.0   \n",
              "3                      8.0                     22.5             147400.0   \n",
              "4                     13.0                     13.6             385836.0   \n",
              "\n",
              "   Number of Credit Problems  Months since last delinquent  Bankruptcies  \\\n",
              "0                        1.0                           NaN           1.0   \n",
              "1                        0.0                           NaN           0.0   \n",
              "2                        0.0                           NaN           0.0   \n",
              "3                        1.0                           NaN           1.0   \n",
              "4                        1.0                           NaN           0.0   \n",
              "\n",
              "              Purpose        Term  Current Loan Amount  \\\n",
              "0  debt consolidation  Short Term           99999999.0   \n",
              "1  debt consolidation   Long Term             264968.0   \n",
              "2  debt consolidation  Short Term           99999999.0   \n",
              "3  debt consolidation  Short Term             121396.0   \n",
              "4  debt consolidation  Short Term             125840.0   \n",
              "\n",
              "   Current Credit Balance  Monthly Debt  Credit Score  Credit Default  \n",
              "0                 47386.0        7914.0         749.0               0  \n",
              "1                394972.0       18373.0         737.0               1  \n",
              "2                308389.0       13651.0         742.0               0  \n",
              "3                 95855.0       11338.0         694.0               0  \n",
              "4                 93309.0        7180.0         719.0               0  "
            ],
            "text/html": [
              "\n",
              "  <div id=\"df-15c487ab-0a3a-4513-8470-6d3b77b67258\">\n",
              "    <div class=\"colab-df-container\">\n",
              "      <div>\n",
              "<style scoped>\n",
              "    .dataframe tbody tr th:only-of-type {\n",
              "        vertical-align: middle;\n",
              "    }\n",
              "\n",
              "    .dataframe tbody tr th {\n",
              "        vertical-align: top;\n",
              "    }\n",
              "\n",
              "    .dataframe thead th {\n",
              "        text-align: right;\n",
              "    }\n",
              "</style>\n",
              "<table border=\"1\" class=\"dataframe\">\n",
              "  <thead>\n",
              "    <tr style=\"text-align: right;\">\n",
              "      <th></th>\n",
              "      <th>Home Ownership</th>\n",
              "      <th>Annual Income</th>\n",
              "      <th>Years in current job</th>\n",
              "      <th>Tax Liens</th>\n",
              "      <th>Number of Open Accounts</th>\n",
              "      <th>Years of Credit History</th>\n",
              "      <th>Maximum Open Credit</th>\n",
              "      <th>Number of Credit Problems</th>\n",
              "      <th>Months since last delinquent</th>\n",
              "      <th>Bankruptcies</th>\n",
              "      <th>Purpose</th>\n",
              "      <th>Term</th>\n",
              "      <th>Current Loan Amount</th>\n",
              "      <th>Current Credit Balance</th>\n",
              "      <th>Monthly Debt</th>\n",
              "      <th>Credit Score</th>\n",
              "      <th>Credit Default</th>\n",
              "    </tr>\n",
              "  </thead>\n",
              "  <tbody>\n",
              "    <tr>\n",
              "      <th>0</th>\n",
              "      <td>Own Home</td>\n",
              "      <td>482087.0</td>\n",
              "      <td>NaN</td>\n",
              "      <td>0.0</td>\n",
              "      <td>11.0</td>\n",
              "      <td>26.3</td>\n",
              "      <td>685960.0</td>\n",
              "      <td>1.0</td>\n",
              "      <td>NaN</td>\n",
              "      <td>1.0</td>\n",
              "      <td>debt consolidation</td>\n",
              "      <td>Short Term</td>\n",
              "      <td>99999999.0</td>\n",
              "      <td>47386.0</td>\n",
              "      <td>7914.0</td>\n",
              "      <td>749.0</td>\n",
              "      <td>0</td>\n",
              "    </tr>\n",
              "    <tr>\n",
              "      <th>1</th>\n",
              "      <td>Own Home</td>\n",
              "      <td>1025487.0</td>\n",
              "      <td>10+ years</td>\n",
              "      <td>0.0</td>\n",
              "      <td>15.0</td>\n",
              "      <td>15.3</td>\n",
              "      <td>1181730.0</td>\n",
              "      <td>0.0</td>\n",
              "      <td>NaN</td>\n",
              "      <td>0.0</td>\n",
              "      <td>debt consolidation</td>\n",
              "      <td>Long Term</td>\n",
              "      <td>264968.0</td>\n",
              "      <td>394972.0</td>\n",
              "      <td>18373.0</td>\n",
              "      <td>737.0</td>\n",
              "      <td>1</td>\n",
              "    </tr>\n",
              "    <tr>\n",
              "      <th>2</th>\n",
              "      <td>Home Mortgage</td>\n",
              "      <td>751412.0</td>\n",
              "      <td>8 years</td>\n",
              "      <td>0.0</td>\n",
              "      <td>11.0</td>\n",
              "      <td>35.0</td>\n",
              "      <td>1182434.0</td>\n",
              "      <td>0.0</td>\n",
              "      <td>NaN</td>\n",
              "      <td>0.0</td>\n",
              "      <td>debt consolidation</td>\n",
              "      <td>Short Term</td>\n",
              "      <td>99999999.0</td>\n",
              "      <td>308389.0</td>\n",
              "      <td>13651.0</td>\n",
              "      <td>742.0</td>\n",
              "      <td>0</td>\n",
              "    </tr>\n",
              "    <tr>\n",
              "      <th>3</th>\n",
              "      <td>Own Home</td>\n",
              "      <td>805068.0</td>\n",
              "      <td>6 years</td>\n",
              "      <td>0.0</td>\n",
              "      <td>8.0</td>\n",
              "      <td>22.5</td>\n",
              "      <td>147400.0</td>\n",
              "      <td>1.0</td>\n",
              "      <td>NaN</td>\n",
              "      <td>1.0</td>\n",
              "      <td>debt consolidation</td>\n",
              "      <td>Short Term</td>\n",
              "      <td>121396.0</td>\n",
              "      <td>95855.0</td>\n",
              "      <td>11338.0</td>\n",
              "      <td>694.0</td>\n",
              "      <td>0</td>\n",
              "    </tr>\n",
              "    <tr>\n",
              "      <th>4</th>\n",
              "      <td>Rent</td>\n",
              "      <td>776264.0</td>\n",
              "      <td>8 years</td>\n",
              "      <td>0.0</td>\n",
              "      <td>13.0</td>\n",
              "      <td>13.6</td>\n",
              "      <td>385836.0</td>\n",
              "      <td>1.0</td>\n",
              "      <td>NaN</td>\n",
              "      <td>0.0</td>\n",
              "      <td>debt consolidation</td>\n",
              "      <td>Short Term</td>\n",
              "      <td>125840.0</td>\n",
              "      <td>93309.0</td>\n",
              "      <td>7180.0</td>\n",
              "      <td>719.0</td>\n",
              "      <td>0</td>\n",
              "    </tr>\n",
              "  </tbody>\n",
              "</table>\n",
              "</div>\n",
              "      <button class=\"colab-df-convert\" onclick=\"convertToInteractive('df-15c487ab-0a3a-4513-8470-6d3b77b67258')\"\n",
              "              title=\"Convert this dataframe to an interactive table.\"\n",
              "              style=\"display:none;\">\n",
              "        \n",
              "  <svg xmlns=\"http://www.w3.org/2000/svg\" height=\"24px\"viewBox=\"0 0 24 24\"\n",
              "       width=\"24px\">\n",
              "    <path d=\"M0 0h24v24H0V0z\" fill=\"none\"/>\n",
              "    <path d=\"M18.56 5.44l.94 2.06.94-2.06 2.06-.94-2.06-.94-.94-2.06-.94 2.06-2.06.94zm-11 1L8.5 8.5l.94-2.06 2.06-.94-2.06-.94L8.5 2.5l-.94 2.06-2.06.94zm10 10l.94 2.06.94-2.06 2.06-.94-2.06-.94-.94-2.06-.94 2.06-2.06.94z\"/><path d=\"M17.41 7.96l-1.37-1.37c-.4-.4-.92-.59-1.43-.59-.52 0-1.04.2-1.43.59L10.3 9.45l-7.72 7.72c-.78.78-.78 2.05 0 2.83L4 21.41c.39.39.9.59 1.41.59.51 0 1.02-.2 1.41-.59l7.78-7.78 2.81-2.81c.8-.78.8-2.07 0-2.86zM5.41 20L4 18.59l7.72-7.72 1.47 1.35L5.41 20z\"/>\n",
              "  </svg>\n",
              "      </button>\n",
              "      \n",
              "  <style>\n",
              "    .colab-df-container {\n",
              "      display:flex;\n",
              "      flex-wrap:wrap;\n",
              "      gap: 12px;\n",
              "    }\n",
              "\n",
              "    .colab-df-convert {\n",
              "      background-color: #E8F0FE;\n",
              "      border: none;\n",
              "      border-radius: 50%;\n",
              "      cursor: pointer;\n",
              "      display: none;\n",
              "      fill: #1967D2;\n",
              "      height: 32px;\n",
              "      padding: 0 0 0 0;\n",
              "      width: 32px;\n",
              "    }\n",
              "\n",
              "    .colab-df-convert:hover {\n",
              "      background-color: #E2EBFA;\n",
              "      box-shadow: 0px 1px 2px rgba(60, 64, 67, 0.3), 0px 1px 3px 1px rgba(60, 64, 67, 0.15);\n",
              "      fill: #174EA6;\n",
              "    }\n",
              "\n",
              "    [theme=dark] .colab-df-convert {\n",
              "      background-color: #3B4455;\n",
              "      fill: #D2E3FC;\n",
              "    }\n",
              "\n",
              "    [theme=dark] .colab-df-convert:hover {\n",
              "      background-color: #434B5C;\n",
              "      box-shadow: 0px 1px 3px 1px rgba(0, 0, 0, 0.15);\n",
              "      filter: drop-shadow(0px 1px 2px rgba(0, 0, 0, 0.3));\n",
              "      fill: #FFFFFF;\n",
              "    }\n",
              "  </style>\n",
              "\n",
              "      <script>\n",
              "        const buttonEl =\n",
              "          document.querySelector('#df-15c487ab-0a3a-4513-8470-6d3b77b67258 button.colab-df-convert');\n",
              "        buttonEl.style.display =\n",
              "          google.colab.kernel.accessAllowed ? 'block' : 'none';\n",
              "\n",
              "        async function convertToInteractive(key) {\n",
              "          const element = document.querySelector('#df-15c487ab-0a3a-4513-8470-6d3b77b67258');\n",
              "          const dataTable =\n",
              "            await google.colab.kernel.invokeFunction('convertToInteractive',\n",
              "                                                     [key], {});\n",
              "          if (!dataTable) return;\n",
              "\n",
              "          const docLinkHtml = 'Like what you see? Visit the ' +\n",
              "            '<a target=\"_blank\" href=https://colab.research.google.com/notebooks/data_table.ipynb>data table notebook</a>'\n",
              "            + ' to learn more about interactive tables.';\n",
              "          element.innerHTML = '';\n",
              "          dataTable['output_type'] = 'display_data';\n",
              "          await google.colab.output.renderOutput(dataTable, element);\n",
              "          const docLink = document.createElement('div');\n",
              "          docLink.innerHTML = docLinkHtml;\n",
              "          element.appendChild(docLink);\n",
              "        }\n",
              "      </script>\n",
              "    </div>\n",
              "  </div>\n",
              "  "
            ]
          },
          "metadata": {},
          "execution_count": 5
        }
      ],
      "source": [
        "train_df = pd.read_csv(TRAIN_DATASET_PATH)\n",
        "train_df.head()"
      ]
    },
    {
      "cell_type": "code",
      "execution_count": 6,
      "id": "912fcd0b",
      "metadata": {
        "execution": {
          "iopub.execute_input": "2021-08-18T17:19:56.608900Z",
          "iopub.status.busy": "2021-08-18T17:19:56.608161Z",
          "iopub.status.idle": "2021-08-18T17:19:56.654035Z",
          "shell.execute_reply": "2021-08-18T17:19:56.653435Z",
          "shell.execute_reply.started": "2021-08-18T17:12:06.690826Z"
        },
        "papermill": {
          "duration": 0.093319,
          "end_time": "2021-08-18T17:19:56.654175",
          "exception": false,
          "start_time": "2021-08-18T17:19:56.560856",
          "status": "completed"
        },
        "tags": [],
        "colab": {
          "base_uri": "https://localhost:8080/",
          "height": 372
        },
        "id": "912fcd0b",
        "outputId": "0b666f56-d3c0-445c-ca40-979ac731f88d"
      },
      "outputs": [
        {
          "output_type": "execute_result",
          "data": {
            "text/plain": [
              "     Home Ownership  Annual Income Years in current job  Tax Liens  \\\n",
              "2495  Home Mortgage      1020053.0            10+ years        0.0   \n",
              "2496  Home Mortgage            NaN              2 years        0.0   \n",
              "2497  Home Mortgage      1171806.0              2 years        0.0   \n",
              "2498           Rent       723520.0            10+ years        0.0   \n",
              "2499           Rent      1694439.0            10+ years        0.0   \n",
              "\n",
              "      Number of Open Accounts  Years of Credit History  Maximum Open Credit  \\\n",
              "2495                     14.0                     29.1             559152.0   \n",
              "2496                     15.0                     17.0            1737780.0   \n",
              "2497                     48.0                     12.8            1706430.0   \n",
              "2498                     14.0                     28.8             945780.0   \n",
              "2499                     12.0                     18.4            1199748.0   \n",
              "\n",
              "      Number of Credit Problems  Months since last delinquent  Bankruptcies  \\\n",
              "2495                        1.0                          68.0           1.0   \n",
              "2496                        0.0                          77.0           0.0   \n",
              "2497                        0.0                           NaN           0.0   \n",
              "2498                        0.0                           NaN           0.0   \n",
              "2499                        1.0                          72.0           0.0   \n",
              "\n",
              "                 Purpose        Term  Current Loan Amount  \\\n",
              "2495  debt consolidation  Short Term           99999999.0   \n",
              "2496  debt consolidation  Short Term             468512.0   \n",
              "2497  debt consolidation  Short Term             430496.0   \n",
              "2498  debt consolidation  Short Term             257774.0   \n",
              "2499  debt consolidation   Long Term             763004.0   \n",
              "\n",
              "      Current Credit Balance  Monthly Debt  Credit Score  \n",
              "2495                162735.0       15046.0         745.0  \n",
              "2496               1439269.0       32996.0           NaN  \n",
              "2497                676438.0       36912.0         695.0  \n",
              "2498                391248.0       13506.0         744.0  \n",
              "2499                559531.0       23440.0        6820.0  "
            ],
            "text/html": [
              "\n",
              "  <div id=\"df-20523955-b14a-4b4b-8690-e9df013332a1\">\n",
              "    <div class=\"colab-df-container\">\n",
              "      <div>\n",
              "<style scoped>\n",
              "    .dataframe tbody tr th:only-of-type {\n",
              "        vertical-align: middle;\n",
              "    }\n",
              "\n",
              "    .dataframe tbody tr th {\n",
              "        vertical-align: top;\n",
              "    }\n",
              "\n",
              "    .dataframe thead th {\n",
              "        text-align: right;\n",
              "    }\n",
              "</style>\n",
              "<table border=\"1\" class=\"dataframe\">\n",
              "  <thead>\n",
              "    <tr style=\"text-align: right;\">\n",
              "      <th></th>\n",
              "      <th>Home Ownership</th>\n",
              "      <th>Annual Income</th>\n",
              "      <th>Years in current job</th>\n",
              "      <th>Tax Liens</th>\n",
              "      <th>Number of Open Accounts</th>\n",
              "      <th>Years of Credit History</th>\n",
              "      <th>Maximum Open Credit</th>\n",
              "      <th>Number of Credit Problems</th>\n",
              "      <th>Months since last delinquent</th>\n",
              "      <th>Bankruptcies</th>\n",
              "      <th>Purpose</th>\n",
              "      <th>Term</th>\n",
              "      <th>Current Loan Amount</th>\n",
              "      <th>Current Credit Balance</th>\n",
              "      <th>Monthly Debt</th>\n",
              "      <th>Credit Score</th>\n",
              "    </tr>\n",
              "  </thead>\n",
              "  <tbody>\n",
              "    <tr>\n",
              "      <th>2495</th>\n",
              "      <td>Home Mortgage</td>\n",
              "      <td>1020053.0</td>\n",
              "      <td>10+ years</td>\n",
              "      <td>0.0</td>\n",
              "      <td>14.0</td>\n",
              "      <td>29.1</td>\n",
              "      <td>559152.0</td>\n",
              "      <td>1.0</td>\n",
              "      <td>68.0</td>\n",
              "      <td>1.0</td>\n",
              "      <td>debt consolidation</td>\n",
              "      <td>Short Term</td>\n",
              "      <td>99999999.0</td>\n",
              "      <td>162735.0</td>\n",
              "      <td>15046.0</td>\n",
              "      <td>745.0</td>\n",
              "    </tr>\n",
              "    <tr>\n",
              "      <th>2496</th>\n",
              "      <td>Home Mortgage</td>\n",
              "      <td>NaN</td>\n",
              "      <td>2 years</td>\n",
              "      <td>0.0</td>\n",
              "      <td>15.0</td>\n",
              "      <td>17.0</td>\n",
              "      <td>1737780.0</td>\n",
              "      <td>0.0</td>\n",
              "      <td>77.0</td>\n",
              "      <td>0.0</td>\n",
              "      <td>debt consolidation</td>\n",
              "      <td>Short Term</td>\n",
              "      <td>468512.0</td>\n",
              "      <td>1439269.0</td>\n",
              "      <td>32996.0</td>\n",
              "      <td>NaN</td>\n",
              "    </tr>\n",
              "    <tr>\n",
              "      <th>2497</th>\n",
              "      <td>Home Mortgage</td>\n",
              "      <td>1171806.0</td>\n",
              "      <td>2 years</td>\n",
              "      <td>0.0</td>\n",
              "      <td>48.0</td>\n",
              "      <td>12.8</td>\n",
              "      <td>1706430.0</td>\n",
              "      <td>0.0</td>\n",
              "      <td>NaN</td>\n",
              "      <td>0.0</td>\n",
              "      <td>debt consolidation</td>\n",
              "      <td>Short Term</td>\n",
              "      <td>430496.0</td>\n",
              "      <td>676438.0</td>\n",
              "      <td>36912.0</td>\n",
              "      <td>695.0</td>\n",
              "    </tr>\n",
              "    <tr>\n",
              "      <th>2498</th>\n",
              "      <td>Rent</td>\n",
              "      <td>723520.0</td>\n",
              "      <td>10+ years</td>\n",
              "      <td>0.0</td>\n",
              "      <td>14.0</td>\n",
              "      <td>28.8</td>\n",
              "      <td>945780.0</td>\n",
              "      <td>0.0</td>\n",
              "      <td>NaN</td>\n",
              "      <td>0.0</td>\n",
              "      <td>debt consolidation</td>\n",
              "      <td>Short Term</td>\n",
              "      <td>257774.0</td>\n",
              "      <td>391248.0</td>\n",
              "      <td>13506.0</td>\n",
              "      <td>744.0</td>\n",
              "    </tr>\n",
              "    <tr>\n",
              "      <th>2499</th>\n",
              "      <td>Rent</td>\n",
              "      <td>1694439.0</td>\n",
              "      <td>10+ years</td>\n",
              "      <td>0.0</td>\n",
              "      <td>12.0</td>\n",
              "      <td>18.4</td>\n",
              "      <td>1199748.0</td>\n",
              "      <td>1.0</td>\n",
              "      <td>72.0</td>\n",
              "      <td>0.0</td>\n",
              "      <td>debt consolidation</td>\n",
              "      <td>Long Term</td>\n",
              "      <td>763004.0</td>\n",
              "      <td>559531.0</td>\n",
              "      <td>23440.0</td>\n",
              "      <td>6820.0</td>\n",
              "    </tr>\n",
              "  </tbody>\n",
              "</table>\n",
              "</div>\n",
              "      <button class=\"colab-df-convert\" onclick=\"convertToInteractive('df-20523955-b14a-4b4b-8690-e9df013332a1')\"\n",
              "              title=\"Convert this dataframe to an interactive table.\"\n",
              "              style=\"display:none;\">\n",
              "        \n",
              "  <svg xmlns=\"http://www.w3.org/2000/svg\" height=\"24px\"viewBox=\"0 0 24 24\"\n",
              "       width=\"24px\">\n",
              "    <path d=\"M0 0h24v24H0V0z\" fill=\"none\"/>\n",
              "    <path d=\"M18.56 5.44l.94 2.06.94-2.06 2.06-.94-2.06-.94-.94-2.06-.94 2.06-2.06.94zm-11 1L8.5 8.5l.94-2.06 2.06-.94-2.06-.94L8.5 2.5l-.94 2.06-2.06.94zm10 10l.94 2.06.94-2.06 2.06-.94-2.06-.94-.94-2.06-.94 2.06-2.06.94z\"/><path d=\"M17.41 7.96l-1.37-1.37c-.4-.4-.92-.59-1.43-.59-.52 0-1.04.2-1.43.59L10.3 9.45l-7.72 7.72c-.78.78-.78 2.05 0 2.83L4 21.41c.39.39.9.59 1.41.59.51 0 1.02-.2 1.41-.59l7.78-7.78 2.81-2.81c.8-.78.8-2.07 0-2.86zM5.41 20L4 18.59l7.72-7.72 1.47 1.35L5.41 20z\"/>\n",
              "  </svg>\n",
              "      </button>\n",
              "      \n",
              "  <style>\n",
              "    .colab-df-container {\n",
              "      display:flex;\n",
              "      flex-wrap:wrap;\n",
              "      gap: 12px;\n",
              "    }\n",
              "\n",
              "    .colab-df-convert {\n",
              "      background-color: #E8F0FE;\n",
              "      border: none;\n",
              "      border-radius: 50%;\n",
              "      cursor: pointer;\n",
              "      display: none;\n",
              "      fill: #1967D2;\n",
              "      height: 32px;\n",
              "      padding: 0 0 0 0;\n",
              "      width: 32px;\n",
              "    }\n",
              "\n",
              "    .colab-df-convert:hover {\n",
              "      background-color: #E2EBFA;\n",
              "      box-shadow: 0px 1px 2px rgba(60, 64, 67, 0.3), 0px 1px 3px 1px rgba(60, 64, 67, 0.15);\n",
              "      fill: #174EA6;\n",
              "    }\n",
              "\n",
              "    [theme=dark] .colab-df-convert {\n",
              "      background-color: #3B4455;\n",
              "      fill: #D2E3FC;\n",
              "    }\n",
              "\n",
              "    [theme=dark] .colab-df-convert:hover {\n",
              "      background-color: #434B5C;\n",
              "      box-shadow: 0px 1px 3px 1px rgba(0, 0, 0, 0.15);\n",
              "      filter: drop-shadow(0px 1px 2px rgba(0, 0, 0, 0.3));\n",
              "      fill: #FFFFFF;\n",
              "    }\n",
              "  </style>\n",
              "\n",
              "      <script>\n",
              "        const buttonEl =\n",
              "          document.querySelector('#df-20523955-b14a-4b4b-8690-e9df013332a1 button.colab-df-convert');\n",
              "        buttonEl.style.display =\n",
              "          google.colab.kernel.accessAllowed ? 'block' : 'none';\n",
              "\n",
              "        async function convertToInteractive(key) {\n",
              "          const element = document.querySelector('#df-20523955-b14a-4b4b-8690-e9df013332a1');\n",
              "          const dataTable =\n",
              "            await google.colab.kernel.invokeFunction('convertToInteractive',\n",
              "                                                     [key], {});\n",
              "          if (!dataTable) return;\n",
              "\n",
              "          const docLinkHtml = 'Like what you see? Visit the ' +\n",
              "            '<a target=\"_blank\" href=https://colab.research.google.com/notebooks/data_table.ipynb>data table notebook</a>'\n",
              "            + ' to learn more about interactive tables.';\n",
              "          element.innerHTML = '';\n",
              "          dataTable['output_type'] = 'display_data';\n",
              "          await google.colab.output.renderOutput(dataTable, element);\n",
              "          const docLink = document.createElement('div');\n",
              "          docLink.innerHTML = docLinkHtml;\n",
              "          element.appendChild(docLink);\n",
              "        }\n",
              "      </script>\n",
              "    </div>\n",
              "  </div>\n",
              "  "
            ]
          },
          "metadata": {},
          "execution_count": 6
        }
      ],
      "source": [
        "test_df = pd.read_csv(TEST_DATASET_PATH)\n",
        "test_df.head()"
      ]
    },
    {
      "cell_type": "code",
      "execution_count": 7,
      "id": "8071cb9a",
      "metadata": {
        "execution": {
          "iopub.execute_input": "2021-08-18T17:19:56.843867Z",
          "iopub.status.busy": "2021-08-18T17:19:56.843182Z",
          "iopub.status.idle": "2021-08-18T17:19:56.846899Z",
          "shell.execute_reply": "2021-08-18T17:19:56.846233Z",
          "shell.execute_reply.started": "2021-08-18T17:12:06.747232Z"
        },
        "papermill": {
          "duration": 0.051933,
          "end_time": "2021-08-18T17:19:56.847025",
          "exception": false,
          "start_time": "2021-08-18T17:19:56.795092",
          "status": "completed"
        },
        "tags": [],
        "colab": {
          "base_uri": "https://localhost:8080/"
        },
        "id": "8071cb9a",
        "outputId": "bd5c3385-2255-45b1-da83-8fadb0d842d2"
      },
      "outputs": [
        {
          "output_type": "execute_result",
          "data": {
            "text/plain": [
              "((7500, 17), (2500, 16))"
            ]
          },
          "metadata": {},
          "execution_count": 7
        }
      ],
      "source": [
        "train_df.shape, test_df.shape"
      ]
    },
    {
      "cell_type": "markdown",
      "id": "c92307ea",
      "metadata": {
        "papermill": {
          "duration": 0.045504,
          "end_time": "2021-08-18T17:19:57.125904",
          "exception": false,
          "start_time": "2021-08-18T17:19:57.080400",
          "status": "completed"
        },
        "tags": [],
        "id": "c92307ea"
      },
      "source": [
        "# **Анализ и обработка исходных данных**"
      ]
    },
    {
      "cell_type": "markdown",
      "id": "2407a566",
      "metadata": {
        "papermill": {
          "duration": 0.044043,
          "end_time": "2021-08-18T17:19:57.214981",
          "exception": false,
          "start_time": "2021-08-18T17:19:57.170938",
          "status": "completed"
        },
        "tags": [],
        "id": "2407a566"
      },
      "source": [
        "**Целевая переменная (Credit Default)**"
      ]
    },
    {
      "cell_type": "code",
      "execution_count": 8,
      "id": "4b6da6a4",
      "metadata": {
        "execution": {
          "iopub.execute_input": "2021-08-18T17:19:57.314484Z",
          "iopub.status.busy": "2021-08-18T17:19:57.313623Z",
          "iopub.status.idle": "2021-08-18T17:19:57.317781Z",
          "shell.execute_reply": "2021-08-18T17:19:57.317244Z",
          "shell.execute_reply.started": "2021-08-18T17:12:06.771773Z"
        },
        "papermill": {
          "duration": 0.058044,
          "end_time": "2021-08-18T17:19:57.317906",
          "exception": false,
          "start_time": "2021-08-18T17:19:57.259862",
          "status": "completed"
        },
        "tags": [],
        "colab": {
          "base_uri": "https://localhost:8080/"
        },
        "id": "4b6da6a4",
        "outputId": "5901020b-21d5-4682-ae45-02d2778d092c"
      },
      "outputs": [
        {
          "output_type": "execute_result",
          "data": {
            "text/plain": [
              "0    5387\n",
              "1    2113\n",
              "Name: Credit Default, dtype: int64"
            ]
          },
          "metadata": {},
          "execution_count": 8
        }
      ],
      "source": [
        "train_df['Credit Default'].value_counts()"
      ]
    },
    {
      "cell_type": "code",
      "execution_count": 9,
      "id": "a5ce2763",
      "metadata": {
        "execution": {
          "iopub.execute_input": "2021-08-18T17:19:57.417514Z",
          "iopub.status.busy": "2021-08-18T17:19:57.412863Z",
          "iopub.status.idle": "2021-08-18T17:19:57.468267Z",
          "shell.execute_reply": "2021-08-18T17:19:57.467773Z",
          "shell.execute_reply.started": "2021-08-18T17:12:06.788718Z"
        },
        "papermill": {
          "duration": 0.104846,
          "end_time": "2021-08-18T17:19:57.468418",
          "exception": false,
          "start_time": "2021-08-18T17:19:57.363572",
          "status": "completed"
        },
        "tags": [],
        "colab": {
          "base_uri": "https://localhost:8080/",
          "height": 379
        },
        "id": "a5ce2763",
        "outputId": "826172af-c028-408b-f975-efb7c700fa35"
      },
      "outputs": [
        {
          "output_type": "execute_result",
          "data": {
            "text/plain": [
              "       Annual Income    Tax Liens  Number of Open Accounts  \\\n",
              "count   5.943000e+03  7500.000000              7500.000000   \n",
              "mean    1.366392e+06     0.030133                11.130933   \n",
              "std     8.453392e+05     0.271604                 4.908924   \n",
              "min     1.645970e+05     0.000000                 2.000000   \n",
              "25%     8.443410e+05     0.000000                 8.000000   \n",
              "50%     1.168386e+06     0.000000                10.000000   \n",
              "75%     1.640137e+06     0.000000                14.000000   \n",
              "max     1.014934e+07     7.000000                43.000000   \n",
              "\n",
              "       Years of Credit History  Maximum Open Credit  \\\n",
              "count              7500.000000         7.500000e+03   \n",
              "mean                 18.317467         9.451537e+05   \n",
              "std                   7.041946         1.602622e+07   \n",
              "min                   4.000000         0.000000e+00   \n",
              "25%                  13.500000         2.792295e+05   \n",
              "50%                  17.000000         4.781590e+05   \n",
              "75%                  21.800000         7.935015e+05   \n",
              "max                  57.700000         1.304726e+09   \n",
              "\n",
              "       Number of Credit Problems  Months since last delinquent  Bankruptcies  \\\n",
              "count                7500.000000                   3419.000000   7486.000000   \n",
              "mean                    0.170000                     34.692600      0.117152   \n",
              "std                     0.498598                     21.688806      0.347192   \n",
              "min                     0.000000                      0.000000      0.000000   \n",
              "25%                     0.000000                     16.000000      0.000000   \n",
              "50%                     0.000000                     32.000000      0.000000   \n",
              "75%                     0.000000                     50.000000      0.000000   \n",
              "max                     7.000000                    118.000000      4.000000   \n",
              "\n",
              "       Current Loan Amount  Current Credit Balance   Monthly Debt  \\\n",
              "count         7.500000e+03            7.500000e+03    7500.000000   \n",
              "mean          1.187318e+07            2.898332e+05   18314.454133   \n",
              "std           3.192612e+07            3.178714e+05   11926.764673   \n",
              "min           1.124200e+04            0.000000e+00       0.000000   \n",
              "25%           1.801690e+05            1.142565e+05   10067.500000   \n",
              "50%           3.095730e+05            2.093230e+05   16076.500000   \n",
              "75%           5.198820e+05            3.604062e+05   23818.000000   \n",
              "max           1.000000e+08            6.506797e+06  136679.000000   \n",
              "\n",
              "       Credit Score  Credit Default  \n",
              "count   5943.000000     7500.000000  \n",
              "mean    1151.087498        0.281733  \n",
              "std     1604.451418        0.449874  \n",
              "min      585.000000        0.000000  \n",
              "25%      711.000000        0.000000  \n",
              "50%      731.000000        0.000000  \n",
              "75%      743.000000        1.000000  \n",
              "max     7510.000000        1.000000  "
            ],
            "text/html": [
              "\n",
              "  <div id=\"df-e08e6f5d-e0e0-4a5a-92fa-77978dd96403\">\n",
              "    <div class=\"colab-df-container\">\n",
              "      <div>\n",
              "<style scoped>\n",
              "    .dataframe tbody tr th:only-of-type {\n",
              "        vertical-align: middle;\n",
              "    }\n",
              "\n",
              "    .dataframe tbody tr th {\n",
              "        vertical-align: top;\n",
              "    }\n",
              "\n",
              "    .dataframe thead th {\n",
              "        text-align: right;\n",
              "    }\n",
              "</style>\n",
              "<table border=\"1\" class=\"dataframe\">\n",
              "  <thead>\n",
              "    <tr style=\"text-align: right;\">\n",
              "      <th></th>\n",
              "      <th>Annual Income</th>\n",
              "      <th>Tax Liens</th>\n",
              "      <th>Number of Open Accounts</th>\n",
              "      <th>Years of Credit History</th>\n",
              "      <th>Maximum Open Credit</th>\n",
              "      <th>Number of Credit Problems</th>\n",
              "      <th>Months since last delinquent</th>\n",
              "      <th>Bankruptcies</th>\n",
              "      <th>Current Loan Amount</th>\n",
              "      <th>Current Credit Balance</th>\n",
              "      <th>Monthly Debt</th>\n",
              "      <th>Credit Score</th>\n",
              "      <th>Credit Default</th>\n",
              "    </tr>\n",
              "  </thead>\n",
              "  <tbody>\n",
              "    <tr>\n",
              "      <th>count</th>\n",
              "      <td>5.943000e+03</td>\n",
              "      <td>7500.000000</td>\n",
              "      <td>7500.000000</td>\n",
              "      <td>7500.000000</td>\n",
              "      <td>7.500000e+03</td>\n",
              "      <td>7500.000000</td>\n",
              "      <td>3419.000000</td>\n",
              "      <td>7486.000000</td>\n",
              "      <td>7.500000e+03</td>\n",
              "      <td>7.500000e+03</td>\n",
              "      <td>7500.000000</td>\n",
              "      <td>5943.000000</td>\n",
              "      <td>7500.000000</td>\n",
              "    </tr>\n",
              "    <tr>\n",
              "      <th>mean</th>\n",
              "      <td>1.366392e+06</td>\n",
              "      <td>0.030133</td>\n",
              "      <td>11.130933</td>\n",
              "      <td>18.317467</td>\n",
              "      <td>9.451537e+05</td>\n",
              "      <td>0.170000</td>\n",
              "      <td>34.692600</td>\n",
              "      <td>0.117152</td>\n",
              "      <td>1.187318e+07</td>\n",
              "      <td>2.898332e+05</td>\n",
              "      <td>18314.454133</td>\n",
              "      <td>1151.087498</td>\n",
              "      <td>0.281733</td>\n",
              "    </tr>\n",
              "    <tr>\n",
              "      <th>std</th>\n",
              "      <td>8.453392e+05</td>\n",
              "      <td>0.271604</td>\n",
              "      <td>4.908924</td>\n",
              "      <td>7.041946</td>\n",
              "      <td>1.602622e+07</td>\n",
              "      <td>0.498598</td>\n",
              "      <td>21.688806</td>\n",
              "      <td>0.347192</td>\n",
              "      <td>3.192612e+07</td>\n",
              "      <td>3.178714e+05</td>\n",
              "      <td>11926.764673</td>\n",
              "      <td>1604.451418</td>\n",
              "      <td>0.449874</td>\n",
              "    </tr>\n",
              "    <tr>\n",
              "      <th>min</th>\n",
              "      <td>1.645970e+05</td>\n",
              "      <td>0.000000</td>\n",
              "      <td>2.000000</td>\n",
              "      <td>4.000000</td>\n",
              "      <td>0.000000e+00</td>\n",
              "      <td>0.000000</td>\n",
              "      <td>0.000000</td>\n",
              "      <td>0.000000</td>\n",
              "      <td>1.124200e+04</td>\n",
              "      <td>0.000000e+00</td>\n",
              "      <td>0.000000</td>\n",
              "      <td>585.000000</td>\n",
              "      <td>0.000000</td>\n",
              "    </tr>\n",
              "    <tr>\n",
              "      <th>25%</th>\n",
              "      <td>8.443410e+05</td>\n",
              "      <td>0.000000</td>\n",
              "      <td>8.000000</td>\n",
              "      <td>13.500000</td>\n",
              "      <td>2.792295e+05</td>\n",
              "      <td>0.000000</td>\n",
              "      <td>16.000000</td>\n",
              "      <td>0.000000</td>\n",
              "      <td>1.801690e+05</td>\n",
              "      <td>1.142565e+05</td>\n",
              "      <td>10067.500000</td>\n",
              "      <td>711.000000</td>\n",
              "      <td>0.000000</td>\n",
              "    </tr>\n",
              "    <tr>\n",
              "      <th>50%</th>\n",
              "      <td>1.168386e+06</td>\n",
              "      <td>0.000000</td>\n",
              "      <td>10.000000</td>\n",
              "      <td>17.000000</td>\n",
              "      <td>4.781590e+05</td>\n",
              "      <td>0.000000</td>\n",
              "      <td>32.000000</td>\n",
              "      <td>0.000000</td>\n",
              "      <td>3.095730e+05</td>\n",
              "      <td>2.093230e+05</td>\n",
              "      <td>16076.500000</td>\n",
              "      <td>731.000000</td>\n",
              "      <td>0.000000</td>\n",
              "    </tr>\n",
              "    <tr>\n",
              "      <th>75%</th>\n",
              "      <td>1.640137e+06</td>\n",
              "      <td>0.000000</td>\n",
              "      <td>14.000000</td>\n",
              "      <td>21.800000</td>\n",
              "      <td>7.935015e+05</td>\n",
              "      <td>0.000000</td>\n",
              "      <td>50.000000</td>\n",
              "      <td>0.000000</td>\n",
              "      <td>5.198820e+05</td>\n",
              "      <td>3.604062e+05</td>\n",
              "      <td>23818.000000</td>\n",
              "      <td>743.000000</td>\n",
              "      <td>1.000000</td>\n",
              "    </tr>\n",
              "    <tr>\n",
              "      <th>max</th>\n",
              "      <td>1.014934e+07</td>\n",
              "      <td>7.000000</td>\n",
              "      <td>43.000000</td>\n",
              "      <td>57.700000</td>\n",
              "      <td>1.304726e+09</td>\n",
              "      <td>7.000000</td>\n",
              "      <td>118.000000</td>\n",
              "      <td>4.000000</td>\n",
              "      <td>1.000000e+08</td>\n",
              "      <td>6.506797e+06</td>\n",
              "      <td>136679.000000</td>\n",
              "      <td>7510.000000</td>\n",
              "      <td>1.000000</td>\n",
              "    </tr>\n",
              "  </tbody>\n",
              "</table>\n",
              "</div>\n",
              "      <button class=\"colab-df-convert\" onclick=\"convertToInteractive('df-e08e6f5d-e0e0-4a5a-92fa-77978dd96403')\"\n",
              "              title=\"Convert this dataframe to an interactive table.\"\n",
              "              style=\"display:none;\">\n",
              "        \n",
              "  <svg xmlns=\"http://www.w3.org/2000/svg\" height=\"24px\"viewBox=\"0 0 24 24\"\n",
              "       width=\"24px\">\n",
              "    <path d=\"M0 0h24v24H0V0z\" fill=\"none\"/>\n",
              "    <path d=\"M18.56 5.44l.94 2.06.94-2.06 2.06-.94-2.06-.94-.94-2.06-.94 2.06-2.06.94zm-11 1L8.5 8.5l.94-2.06 2.06-.94-2.06-.94L8.5 2.5l-.94 2.06-2.06.94zm10 10l.94 2.06.94-2.06 2.06-.94-2.06-.94-.94-2.06-.94 2.06-2.06.94z\"/><path d=\"M17.41 7.96l-1.37-1.37c-.4-.4-.92-.59-1.43-.59-.52 0-1.04.2-1.43.59L10.3 9.45l-7.72 7.72c-.78.78-.78 2.05 0 2.83L4 21.41c.39.39.9.59 1.41.59.51 0 1.02-.2 1.41-.59l7.78-7.78 2.81-2.81c.8-.78.8-2.07 0-2.86zM5.41 20L4 18.59l7.72-7.72 1.47 1.35L5.41 20z\"/>\n",
              "  </svg>\n",
              "      </button>\n",
              "      \n",
              "  <style>\n",
              "    .colab-df-container {\n",
              "      display:flex;\n",
              "      flex-wrap:wrap;\n",
              "      gap: 12px;\n",
              "    }\n",
              "\n",
              "    .colab-df-convert {\n",
              "      background-color: #E8F0FE;\n",
              "      border: none;\n",
              "      border-radius: 50%;\n",
              "      cursor: pointer;\n",
              "      display: none;\n",
              "      fill: #1967D2;\n",
              "      height: 32px;\n",
              "      padding: 0 0 0 0;\n",
              "      width: 32px;\n",
              "    }\n",
              "\n",
              "    .colab-df-convert:hover {\n",
              "      background-color: #E2EBFA;\n",
              "      box-shadow: 0px 1px 2px rgba(60, 64, 67, 0.3), 0px 1px 3px 1px rgba(60, 64, 67, 0.15);\n",
              "      fill: #174EA6;\n",
              "    }\n",
              "\n",
              "    [theme=dark] .colab-df-convert {\n",
              "      background-color: #3B4455;\n",
              "      fill: #D2E3FC;\n",
              "    }\n",
              "\n",
              "    [theme=dark] .colab-df-convert:hover {\n",
              "      background-color: #434B5C;\n",
              "      box-shadow: 0px 1px 3px 1px rgba(0, 0, 0, 0.15);\n",
              "      filter: drop-shadow(0px 1px 2px rgba(0, 0, 0, 0.3));\n",
              "      fill: #FFFFFF;\n",
              "    }\n",
              "  </style>\n",
              "\n",
              "      <script>\n",
              "        const buttonEl =\n",
              "          document.querySelector('#df-e08e6f5d-e0e0-4a5a-92fa-77978dd96403 button.colab-df-convert');\n",
              "        buttonEl.style.display =\n",
              "          google.colab.kernel.accessAllowed ? 'block' : 'none';\n",
              "\n",
              "        async function convertToInteractive(key) {\n",
              "          const element = document.querySelector('#df-e08e6f5d-e0e0-4a5a-92fa-77978dd96403');\n",
              "          const dataTable =\n",
              "            await google.colab.kernel.invokeFunction('convertToInteractive',\n",
              "                                                     [key], {});\n",
              "          if (!dataTable) return;\n",
              "\n",
              "          const docLinkHtml = 'Like what you see? Visit the ' +\n",
              "            '<a target=\"_blank\" href=https://colab.research.google.com/notebooks/data_table.ipynb>data table notebook</a>'\n",
              "            + ' to learn more about interactive tables.';\n",
              "          element.innerHTML = '';\n",
              "          dataTable['output_type'] = 'display_data';\n",
              "          await google.colab.output.renderOutput(dataTable, element);\n",
              "          const docLink = document.createElement('div');\n",
              "          docLink.innerHTML = docLinkHtml;\n",
              "          element.appendChild(docLink);\n",
              "        }\n",
              "      </script>\n",
              "    </div>\n",
              "  </div>\n",
              "  "
            ]
          },
          "metadata": {},
          "execution_count": 9
        }
      ],
      "source": [
        "train_df.describe()"
      ]
    },
    {
      "cell_type": "markdown",
      "id": "76425679",
      "metadata": {
        "papermill": {
          "duration": 0.045736,
          "end_time": "2021-08-18T17:19:57.560764",
          "exception": false,
          "start_time": "2021-08-18T17:19:57.515028",
          "status": "completed"
        },
        "tags": [],
        "id": "76425679"
      },
      "source": [
        "**Обзор категориальных признаков**"
      ]
    },
    {
      "cell_type": "code",
      "execution_count": 10,
      "id": "77bbee0c",
      "metadata": {
        "execution": {
          "iopub.execute_input": "2021-08-18T17:19:57.675534Z",
          "iopub.status.busy": "2021-08-18T17:19:57.674893Z",
          "iopub.status.idle": "2021-08-18T17:19:58.357462Z",
          "shell.execute_reply": "2021-08-18T17:19:58.357922Z",
          "shell.execute_reply.started": "2021-08-18T17:12:06.853861Z"
        },
        "papermill": {
          "duration": 0.750676,
          "end_time": "2021-08-18T17:19:58.358075",
          "exception": false,
          "start_time": "2021-08-18T17:19:57.607399",
          "status": "completed"
        },
        "tags": [],
        "colab": {
          "base_uri": "https://localhost:8080/",
          "height": 1000
        },
        "id": "77bbee0c",
        "outputId": "cb46dc3e-bce3-42ea-90b1-3dcd0058c5fd"
      },
      "outputs": [
        {
          "output_type": "display_data",
          "data": {
            "text/plain": [
              "<Figure size 1600x1200 with 4 Axes>"
            ],
            "image/png": "[encoded data removed]"
          },
          "metadata": {}
        }
      ],
      "source": [
        "plt.rcParams['figure.figsize'] = [16, 12]\n",
        "\n",
        "fig, ((ax1, ax2), (ax3, ax4)) = plt.subplots(2, 2)\n",
        "\n",
        "ax1.bar(train_df['Years in current job'].value_counts().index, train_df['Years in current job'].value_counts().values)\n",
        "ax2.bar(train_df['Home Ownership'].value_counts().index, train_df['Home Ownership'].value_counts().values)\n",
        "ax3.bar(train_df['Purpose'].value_counts().index, train_df['Purpose'].value_counts().values)\n",
        "ax4.bar(train_df['Term'].value_counts().index, train_df['Term'].value_counts().values)\n",
        "\n",
        "fig.suptitle('Категориальные признаки')\n",
        "ax1.xaxis.set_tick_params(rotation=45)\n",
        "ax3.xaxis.set_tick_params(rotation=90)"
      ]
    },
    {
      "cell_type": "code",
      "execution_count": 11,
      "id": "119e3787",
      "metadata": {
        "execution": {
          "iopub.execute_input": "2021-08-18T17:19:58.456901Z",
          "iopub.status.busy": "2021-08-18T17:19:58.456193Z",
          "iopub.status.idle": "2021-08-18T17:19:58.476740Z",
          "shell.execute_reply": "2021-08-18T17:19:58.476193Z",
          "shell.execute_reply.started": "2021-08-18T17:12:07.571867Z"
        },
        "papermill": {
          "duration": 0.070881,
          "end_time": "2021-08-18T17:19:58.476880",
          "exception": false,
          "start_time": "2021-08-18T17:19:58.405999",
          "status": "completed"
        },
        "tags": [],
        "colab": {
          "base_uri": "https://localhost:8080/"
        },
        "id": "119e3787",
        "outputId": "66275e3e-5b0f-456d-cb6a-ada99dd8d018"
      },
      "outputs": [
        {
          "output_type": "stream",
          "name": "stdout",
          "text": [
            "Home Ownership\n",
            "\n",
            "Home Mortgage    3637\n",
            "Rent             3204\n",
            "Own Home          647\n",
            "Have Mortgage      12\n",
            "Name: Home Ownership, dtype: int64\n",
            "****************************************************************************************************\n",
            "\n",
            "Years in current job\n",
            "\n",
            "10+ years    2332\n",
            "2 years       705\n",
            "3 years       620\n",
            "< 1 year      563\n",
            "5 years       516\n",
            "1 year        504\n",
            "4 years       469\n",
            "6 years       426\n",
            "7 years       396\n",
            "8 years       339\n",
            "9 years       259\n",
            "Name: Years in current job, dtype: int64\n",
            "****************************************************************************************************\n",
            "\n",
            "Purpose\n",
            "\n",
            "debt consolidation      5944\n",
            "other                    665\n",
            "home improvements        412\n",
            "business loan            129\n",
            "buy a car                 96\n",
            "medical bills             71\n",
            "major purchase            40\n",
            "take a trip               37\n",
            "buy house                 34\n",
            "small business            26\n",
            "wedding                   15\n",
            "moving                    11\n",
            "educational expenses      10\n",
            "vacation                   8\n",
            "renewable energy           2\n",
            "Name: Purpose, dtype: int64\n",
            "****************************************************************************************************\n",
            "\n",
            "Term\n",
            "\n",
            "Short Term    5556\n",
            "Long Term     1944\n",
            "Name: Term, dtype: int64\n",
            "****************************************************************************************************\n",
            "\n"
          ]
        }
      ],
      "source": [
        "for cat_colname in train_df.select_dtypes(include='object').columns:\n",
        "    print(str(cat_colname) + '\\n\\n' + str(train_df[cat_colname].value_counts()) + '\\n' + '*' * 100 + '\\n')"
      ]
    },
    {
      "cell_type": "code",
      "execution_count": 12,
      "id": "b7e55d0a",
      "metadata": {
        "execution": {
          "iopub.execute_input": "2021-08-18T17:19:58.581553Z",
          "iopub.status.busy": "2021-08-18T17:19:58.578207Z",
          "iopub.status.idle": "2021-08-18T17:19:58.595279Z",
          "shell.execute_reply": "2021-08-18T17:19:58.594661Z",
          "shell.execute_reply.started": "2021-08-18T17:12:07.594550Z"
        },
        "papermill": {
          "duration": 0.069756,
          "end_time": "2021-08-18T17:19:58.595424",
          "exception": false,
          "start_time": "2021-08-18T17:19:58.525668",
          "status": "completed"
        },
        "tags": [],
        "colab": {
          "base_uri": "https://localhost:8080/"
        },
        "id": "b7e55d0a",
        "outputId": "45d06823-d783-496e-d7c8-62e810cd406e"
      },
      "outputs": [
        {
          "output_type": "stream",
          "name": "stdout",
          "text": [
            "<class 'pandas.core.frame.DataFrame'>\n",
            "RangeIndex: 7500 entries, 0 to 7499\n",
            "Data columns (total 17 columns):\n",
            " #   Column                        Non-Null Count  Dtype  \n",
            "---  ------                        --------------  -----  \n",
            " 0   Home Ownership                7500 non-null   object \n",
            " 1   Annual Income                 5943 non-null   float64\n",
            " 2   Years in current job          7129 non-null   object \n",
            " 3   Tax Liens                     7500 non-null   float64\n",
            " 4   Number of Open Accounts       7500 non-null   float64\n",
            " 5   Years of Credit History       7500 non-null   float64\n",
            " 6   Maximum Open Credit           7500 non-null   float64\n",
            " 7   Number of Credit Problems     7500 non-null   float64\n",
            " 8   Months since last delinquent  3419 non-null   float64\n",
            " 9   Bankruptcies                  7486 non-null   float64\n",
            " 10  Purpose                       7500 non-null   object \n",
            " 11  Term                          7500 non-null   object \n",
            " 12  Current Loan Amount           7500 non-null   float64\n",
            " 13  Current Credit Balance        7500 non-null   float64\n",
            " 14  Monthly Debt                  7500 non-null   float64\n",
            " 15  Credit Score                  5943 non-null   float64\n",
            " 16  Credit Default                7500 non-null   int64  \n",
            "dtypes: float64(12), int64(1), object(4)\n",
            "memory usage: 996.2+ KB\n"
          ]
        }
      ],
      "source": [
        "train_df.info()"
      ]
    },
    {
      "cell_type": "code",
      "execution_count": 13,
      "id": "1508c047",
      "metadata": {
        "execution": {
          "iopub.execute_input": "2021-08-18T17:19:58.708414Z",
          "iopub.status.busy": "2021-08-18T17:19:58.700459Z",
          "iopub.status.idle": "2021-08-18T17:19:58.712523Z",
          "shell.execute_reply": "2021-08-18T17:19:58.712019Z",
          "shell.execute_reply.started": "2021-08-18T17:12:07.619245Z"
        },
        "papermill": {
          "duration": 0.068293,
          "end_time": "2021-08-18T17:19:58.712662",
          "exception": false,
          "start_time": "2021-08-18T17:19:58.644369",
          "status": "completed"
        },
        "tags": [],
        "colab": {
          "base_uri": "https://localhost:8080/"
        },
        "id": "1508c047",
        "outputId": "4091abb0-a284-4407-cd99-cb507c26b00b"
      },
      "outputs": [
        {
          "output_type": "stream",
          "name": "stdout",
          "text": [
            "<class 'pandas.core.frame.DataFrame'>\n",
            "RangeIndex: 2500 entries, 0 to 2499\n",
            "Data columns (total 16 columns):\n",
            " #   Column                        Non-Null Count  Dtype  \n",
            "---  ------                        --------------  -----  \n",
            " 0   Home Ownership                2500 non-null   object \n",
            " 1   Annual Income                 1987 non-null   float64\n",
            " 2   Years in current job          2414 non-null   object \n",
            " 3   Tax Liens                     2500 non-null   float64\n",
            " 4   Number of Open Accounts       2500 non-null   float64\n",
            " 5   Years of Credit History       2500 non-null   float64\n",
            " 6   Maximum Open Credit           2500 non-null   float64\n",
            " 7   Number of Credit Problems     2500 non-null   float64\n",
            " 8   Months since last delinquent  1142 non-null   float64\n",
            " 9   Bankruptcies                  2497 non-null   float64\n",
            " 10  Purpose                       2500 non-null   object \n",
            " 11  Term                          2500 non-null   object \n",
            " 12  Current Loan Amount           2500 non-null   float64\n",
            " 13  Current Credit Balance        2500 non-null   float64\n",
            " 14  Monthly Debt                  2500 non-null   float64\n",
            " 15  Credit Score                  1987 non-null   float64\n",
            "dtypes: float64(12), object(4)\n",
            "memory usage: 312.6+ KB\n"
          ]
        }
      ],
      "source": [
        "test_df.info()"
      ]
    },
    {
      "cell_type": "markdown",
      "id": "5daa1f0d",
      "metadata": {
        "papermill": {
          "duration": 0.048899,
          "end_time": "2021-08-18T17:19:58.810442",
          "exception": false,
          "start_time": "2021-08-18T17:19:58.761543",
          "status": "completed"
        },
        "tags": [],
        "id": "5daa1f0d"
      },
      "source": [
        "**Обработка пропусков**"
      ]
    },
    {
      "cell_type": "code",
      "execution_count": 14,
      "id": "0b00a559",
      "metadata": {
        "execution": {
          "iopub.execute_input": "2021-08-18T17:19:58.916803Z",
          "iopub.status.busy": "2021-08-18T17:19:58.913192Z",
          "iopub.status.idle": "2021-08-18T17:19:58.923999Z",
          "shell.execute_reply": "2021-08-18T17:19:58.923520Z",
          "shell.execute_reply.started": "2021-08-18T17:12:07.636402Z"
        },
        "papermill": {
          "duration": 0.064534,
          "end_time": "2021-08-18T17:19:58.924129",
          "exception": false,
          "start_time": "2021-08-18T17:19:58.859595",
          "status": "completed"
        },
        "tags": [],
        "colab": {
          "base_uri": "https://localhost:8080/"
        },
        "id": "0b00a559",
        "outputId": "7c4411ae-c028-44dc-f31b-750d8d75385c"
      },
      "outputs": [
        {
          "output_type": "execute_result",
          "data": {
            "text/plain": [
              "Home Ownership                     0\n",
              "Annual Income                   1557\n",
              "Years in current job             371\n",
              "Tax Liens                          0\n",
              "Number of Open Accounts            0\n",
              "Years of Credit History            0\n",
              "Maximum Open Credit                0\n",
              "Number of Credit Problems          0\n",
              "Months since last delinquent    4081\n",
              "Bankruptcies                      14\n",
              "Purpose                            0\n",
              "Term                               0\n",
              "Current Loan Amount                0\n",
              "Current Credit Balance             0\n",
              "Monthly Debt                       0\n",
              "Credit Score                    1557\n",
              "Credit Default                     0\n",
              "dtype: int64"
            ]
          },
          "metadata": {},
          "execution_count": 14
        }
      ],
      "source": [
        "len(train_df) - train_df.count()"
      ]
    },
    {
      "cell_type": "code",
      "execution_count": 15,
      "id": "fe330d7a",
      "metadata": {
        "execution": {
          "iopub.execute_input": "2021-08-18T17:19:59.027211Z",
          "iopub.status.busy": "2021-08-18T17:19:59.026327Z",
          "iopub.status.idle": "2021-08-18T17:19:59.036287Z",
          "shell.execute_reply": "2021-08-18T17:19:59.036801Z",
          "shell.execute_reply.started": "2021-08-18T17:12:07.650719Z"
        },
        "papermill": {
          "duration": 0.062859,
          "end_time": "2021-08-18T17:19:59.036955",
          "exception": false,
          "start_time": "2021-08-18T17:19:58.974096",
          "status": "completed"
        },
        "tags": [],
        "colab": {
          "base_uri": "https://localhost:8080/"
        },
        "id": "fe330d7a",
        "outputId": "bfb9739d-8a01-496a-810e-951f89346671"
      },
      "outputs": [
        {
          "output_type": "execute_result",
          "data": {
            "text/plain": [
              "Home Ownership                     0\n",
              "Annual Income                    513\n",
              "Years in current job              86\n",
              "Tax Liens                          0\n",
              "Number of Open Accounts            0\n",
              "Years of Credit History            0\n",
              "Maximum Open Credit                0\n",
              "Number of Credit Problems          0\n",
              "Months since last delinquent    1358\n",
              "Bankruptcies                       3\n",
              "Purpose                            0\n",
              "Term                               0\n",
              "Current Loan Amount                0\n",
              "Current Credit Balance             0\n",
              "Monthly Debt                       0\n",
              "Credit Score                     513\n",
              "dtype: int64"
            ]
          },
          "metadata": {},
          "execution_count": 15
        }
      ],
      "source": [
        "len(test_df) - test_df.count()"
      ]
    },
    {
      "cell_type": "markdown",
      "id": "a01cc755",
      "metadata": {
        "papermill": {
          "duration": 0.050822,
          "end_time": "2021-08-18T17:19:59.137502",
          "exception": false,
          "start_time": "2021-08-18T17:19:59.086680",
          "status": "completed"
        },
        "tags": [],
        "id": "a01cc755"
      },
      "source": [
        "Как видно, в обоих файлах имеются пропуски в столбцах Annual Income, Years in current job,  Months since last delinquent, Bankruptcies, Credit Score."
      ]
    },
    {
      "cell_type": "markdown",
      "id": "d9a809c1",
      "metadata": {
        "papermill": {
          "duration": 0.050006,
          "end_time": "2021-08-18T17:19:59.237412",
          "exception": false,
          "start_time": "2021-08-18T17:19:59.187406",
          "status": "completed"
        },
        "tags": [],
        "id": "d9a809c1"
      },
      "source": [
        "Выполним следующие преобразования в обоих датасетах:\n",
        "\n",
        "\n",
        "\n",
        "*   Пустые значения в Years in current job заменим нулями и закодируем категориальные значения как численные.\n",
        "*   В пустые значения в Annual Income подставим медиану.\n",
        "\n",
        "*   Пропуски в Months since last delinquent заполним нулями, считая, что просрочки нет.\n",
        "*   Bankruptcies: пропусков очень мало, заменим нулями.\n",
        "*   Credit Score: в пропусках пропишем нули."
      ]
    },
    {
      "cell_type": "code",
      "execution_count": 16,
      "id": "ca908398",
      "metadata": {
        "execution": {
          "iopub.execute_input": "2021-08-18T17:19:59.469941Z",
          "iopub.status.busy": "2021-08-18T17:19:59.469048Z",
          "iopub.status.idle": "2021-08-18T17:19:59.472488Z",
          "shell.execute_reply": "2021-08-18T17:19:59.472972Z",
          "shell.execute_reply.started": "2021-08-18T17:12:07.691096Z"
        },
        "papermill": {
          "duration": 0.061996,
          "end_time": "2021-08-18T17:19:59.473117",
          "exception": false,
          "start_time": "2021-08-18T17:19:59.411121",
          "status": "completed"
        },
        "tags": [],
        "colab": {
          "base_uri": "https://localhost:8080/"
        },
        "id": "ca908398",
        "outputId": "b44c047c-3720-414e-9664-4b2702944bd9"
      },
      "outputs": [
        {
          "output_type": "execute_result",
          "data": {
            "text/plain": [
              "10+ years    2332\n",
              "2 years       705\n",
              "3 years       620\n",
              "< 1 year      563\n",
              "5 years       516\n",
              "1 year        504\n",
              "4 years       469\n",
              "6 years       426\n",
              "7 years       396\n",
              "8 years       339\n",
              "9 years       259\n",
              "Name: Years in current job, dtype: int64"
            ]
          },
          "metadata": {},
          "execution_count": 16
        }
      ],
      "source": [
        "train_df['Years in current job'].value_counts()"
      ]
    },
    {
      "cell_type": "code",
      "execution_count": 17,
      "id": "4564d87d",
      "metadata": {
        "execution": {
          "iopub.execute_input": "2021-08-18T17:19:59.577278Z",
          "iopub.status.busy": "2021-08-18T17:19:59.576362Z",
          "iopub.status.idle": "2021-08-18T17:19:59.584804Z",
          "shell.execute_reply": "2021-08-18T17:19:59.584236Z",
          "shell.execute_reply.started": "2021-08-18T17:12:07.701788Z"
        },
        "papermill": {
          "duration": 0.061727,
          "end_time": "2021-08-18T17:19:59.584930",
          "exception": false,
          "start_time": "2021-08-18T17:19:59.523203",
          "status": "completed"
        },
        "tags": [],
        "colab": {
          "base_uri": "https://localhost:8080/"
        },
        "id": "4564d87d",
        "outputId": "bcc062d7-2983-400f-e555-12963368c0b4"
      },
      "outputs": [
        {
          "output_type": "execute_result",
          "data": {
            "text/plain": [
              "10+ years    810\n",
              "3 years      228\n",
              "2 years      212\n",
              "< 1 year     207\n",
              "5 years      169\n",
              "1 year       153\n",
              "4 years      152\n",
              "7 years      140\n",
              "6 years      137\n",
              "8 years      107\n",
              "9 years       99\n",
              "Name: Years in current job, dtype: int64"
            ]
          },
          "metadata": {},
          "execution_count": 17
        }
      ],
      "source": [
        "test_df['Years in current job'].value_counts()"
      ]
    },
    {
      "cell_type": "markdown",
      "id": "4c2155ac",
      "metadata": {
        "papermill": {
          "duration": 0.050715,
          "end_time": "2021-08-18T17:19:59.686238",
          "exception": false,
          "start_time": "2021-08-18T17:19:59.635523",
          "status": "completed"
        },
        "tags": [],
        "id": "4c2155ac"
      },
      "source": [
        "Что в train, что в test категории в рамках признака Years in current job имеют одинаковые значения. Поэтому закодируем количество лет на текущем месте работы в большую сторону, при этом сохраняя численную зависимость:\n",
        "* 10+ years = 11\n",
        "* 9 years = 10\n",
        "* 8 years = 9\n",
        "* 7 years = 8\n",
        "* 6 years = 7\n",
        "* 5 years = 6\n",
        "* 4 years = 5\n",
        "* 3 years = 4\n",
        "* 2 years = 3\n",
        "* 1 year = 2\n",
        "* < 1 year = 1\n",
        "* 0 = 0\n",
        "\n",
        "\n",
        "\n"
      ]
    },
    {
      "cell_type": "code",
      "execution_count": 18,
      "id": "2f2737bc",
      "metadata": {
        "execution": {
          "iopub.execute_input": "2021-08-18T17:19:59.818444Z",
          "iopub.status.busy": "2021-08-18T17:19:59.817492Z",
          "iopub.status.idle": "2021-08-18T17:19:59.821937Z",
          "shell.execute_reply": "2021-08-18T17:19:59.821453Z",
          "shell.execute_reply.started": "2021-08-18T17:12:07.715663Z"
        },
        "papermill": {
          "duration": 0.085486,
          "end_time": "2021-08-18T17:19:59.822074",
          "exception": false,
          "start_time": "2021-08-18T17:19:59.736588",
          "status": "completed"
        },
        "tags": [],
        "id": "2f2737bc"
      },
      "outputs": [],
      "source": [
        "train_df['Years in current job'] = train_df['Years in current job'].fillna('0').map({'0': 0, \n",
        "                                                                                     '< 1 year': 1, \n",
        "                                                                                     '1 year': 2, \n",
        "                                                                                     '2 years': 3,\n",
        "                                                                                     '3 years': 4, \n",
        "                                                                                     '4 years': 5, \n",
        "                                                                                     '5 years': 6, \n",
        "                                                                                     '6 years': 7, \n",
        "                                                                                     '7 years': 8, \n",
        "                                                                                     '8 years': 9, \n",
        "                                                                                     '9 years': 10, \n",
        "                                                                                     '10+ years': 11})"
      ]
    },
    {
      "cell_type": "code",
      "source": [
        "test_df['Years in current job'] = test_df['Years in current job'].fillna('0').map({'0': 0, \n",
        "                                                                                     '< 1 year': 1, \n",
        "                                                                                     '1 year': 2, \n",
        "                                                                                     '2 years': 3,\n",
        "                                                                                     '3 years': 4, \n",
        "                                                                                     '4 years': 5, \n",
        "                                                                                     '5 years': 6, \n",
        "                                                                                     '6 years': 7, \n",
        "                                                                                     '7 years': 8, \n",
        "                                                                                     '8 years': 9, \n",
        "                                                                                     '9 years': 10, \n",
        "                                                                                     '10+ years': 11})"
      ],
      "metadata": {
        "id": "wFeP28URarm_"
      },
      "id": "wFeP28URarm_",
      "execution_count": 19,
      "outputs": []
    },
    {
      "cell_type": "code",
      "source": [
        "train_df['Annual Income'].fillna(value=train_df['Annual Income'].mean(), inplace=True)"
      ],
      "metadata": {
        "id": "8q-z43zQBcp0"
      },
      "id": "8q-z43zQBcp0",
      "execution_count": 20,
      "outputs": []
    },
    {
      "cell_type": "code",
      "source": [
        "test_df['Annual Income'].fillna(value=test_df['Annual Income'].mean(), inplace=True)"
      ],
      "metadata": {
        "id": "K-RMA3eWavSI"
      },
      "id": "K-RMA3eWavSI",
      "execution_count": 21,
      "outputs": []
    },
    {
      "cell_type": "code",
      "execution_count": 22,
      "id": "58cb3750",
      "metadata": {
        "execution": {
          "iopub.execute_input": "2021-08-18T17:19:59.343619Z",
          "iopub.status.busy": "2021-08-18T17:19:59.342979Z",
          "iopub.status.idle": "2021-08-18T17:19:59.360407Z",
          "shell.execute_reply": "2021-08-18T17:19:59.360890Z",
          "shell.execute_reply.started": "2021-08-18T17:12:07.663108Z"
        },
        "papermill": {
          "duration": 0.073951,
          "end_time": "2021-08-18T17:19:59.361043",
          "exception": false,
          "start_time": "2021-08-18T17:19:59.287092",
          "status": "completed"
        },
        "tags": [],
        "id": "58cb3750"
      },
      "outputs": [],
      "source": [
        "train_df.loc[:, ['Months since last delinquent', 'Bankruptcies', 'Credit Score']] = train_df.loc[:, ['Months since last delinquent','Bankruptcies', 'Credit Score']].fillna(value=0)"
      ]
    },
    {
      "cell_type": "code",
      "source": [
        "test_df.loc[:, ['Months since last delinquent', 'Bankruptcies', 'Credit Score']] = test_df.loc[:, ['Months since last delinquent','Bankruptcies', 'Credit Score']].fillna(value=0)"
      ],
      "metadata": {
        "id": "TyoVdUrYay5X"
      },
      "id": "TyoVdUrYay5X",
      "execution_count": 23,
      "outputs": []
    },
    {
      "cell_type": "code",
      "execution_count": 24,
      "id": "3cd89342",
      "metadata": {
        "execution": {
          "iopub.execute_input": "2021-08-18T17:19:59.932614Z",
          "iopub.status.busy": "2021-08-18T17:19:59.929239Z",
          "iopub.status.idle": "2021-08-18T17:19:59.945435Z",
          "shell.execute_reply": "2021-08-18T17:19:59.944826Z",
          "shell.execute_reply.started": "2021-08-18T17:12:07.750707Z"
        },
        "papermill": {
          "duration": 0.072386,
          "end_time": "2021-08-18T17:19:59.945561",
          "exception": false,
          "start_time": "2021-08-18T17:19:59.873175",
          "status": "completed"
        },
        "tags": [],
        "colab": {
          "base_uri": "https://localhost:8080/"
        },
        "id": "3cd89342",
        "outputId": "b536b537-8f4d-437e-f11c-1e32fdb0dfe7"
      },
      "outputs": [
        {
          "output_type": "stream",
          "name": "stdout",
          "text": [
            "<class 'pandas.core.frame.DataFrame'>\n",
            "RangeIndex: 7500 entries, 0 to 7499\n",
            "Data columns (total 17 columns):\n",
            " #   Column                        Non-Null Count  Dtype  \n",
            "---  ------                        --------------  -----  \n",
            " 0   Home Ownership                7500 non-null   object \n",
            " 1   Annual Income                 7500 non-null   float64\n",
            " 2   Years in current job          7500 non-null   int64  \n",
            " 3   Tax Liens                     7500 non-null   float64\n",
            " 4   Number of Open Accounts       7500 non-null   float64\n",
            " 5   Years of Credit History       7500 non-null   float64\n",
            " 6   Maximum Open Credit           7500 non-null   float64\n",
            " 7   Number of Credit Problems     7500 non-null   float64\n",
            " 8   Months since last delinquent  7500 non-null   float64\n",
            " 9   Bankruptcies                  7500 non-null   float64\n",
            " 10  Purpose                       7500 non-null   object \n",
            " 11  Term                          7500 non-null   object \n",
            " 12  Current Loan Amount           7500 non-null   float64\n",
            " 13  Current Credit Balance        7500 non-null   float64\n",
            " 14  Monthly Debt                  7500 non-null   float64\n",
            " 15  Credit Score                  7500 non-null   float64\n",
            " 16  Credit Default                7500 non-null   int64  \n",
            "dtypes: float64(12), int64(2), object(3)\n",
            "memory usage: 996.2+ KB\n"
          ]
        }
      ],
      "source": [
        "train_df.info()"
      ]
    },
    {
      "cell_type": "code",
      "source": [
        "test_df.info()"
      ],
      "metadata": {
        "colab": {
          "base_uri": "https://localhost:8080/"
        },
        "id": "SpQIFwlsa2WX",
        "outputId": "5edc8cae-8c7b-4932-bd9e-1553a30d4756"
      },
      "id": "SpQIFwlsa2WX",
      "execution_count": 25,
      "outputs": [
        {
          "output_type": "stream",
          "name": "stdout",
          "text": [
            "<class 'pandas.core.frame.DataFrame'>\n",
            "RangeIndex: 2500 entries, 0 to 2499\n",
            "Data columns (total 16 columns):\n",
            " #   Column                        Non-Null Count  Dtype  \n",
            "---  ------                        --------------  -----  \n",
            " 0   Home Ownership                2500 non-null   object \n",
            " 1   Annual Income                 2500 non-null   float64\n",
            " 2   Years in current job          2500 non-null   int64  \n",
            " 3   Tax Liens                     2500 non-null   float64\n",
            " 4   Number of Open Accounts       2500 non-null   float64\n",
            " 5   Years of Credit History       2500 non-null   float64\n",
            " 6   Maximum Open Credit           2500 non-null   float64\n",
            " 7   Number of Credit Problems     2500 non-null   float64\n",
            " 8   Months since last delinquent  2500 non-null   float64\n",
            " 9   Bankruptcies                  2500 non-null   float64\n",
            " 10  Purpose                       2500 non-null   object \n",
            " 11  Term                          2500 non-null   object \n",
            " 12  Current Loan Amount           2500 non-null   float64\n",
            " 13  Current Credit Balance        2500 non-null   float64\n",
            " 14  Monthly Debt                  2500 non-null   float64\n",
            " 15  Credit Score                  2500 non-null   float64\n",
            "dtypes: float64(12), int64(1), object(3)\n",
            "memory usage: 312.6+ KB\n"
          ]
        }
      ]
    },
    {
      "cell_type": "markdown",
      "source": [
        "Пропуски в обоих датасетах теперь отсутствуют, а признак Years in current job имеет тип данных int64.\n",
        "\n"
      ],
      "metadata": {
        "id": "kX3v-BcZCUlc"
      },
      "id": "kX3v-BcZCUlc"
    },
    {
      "cell_type": "markdown",
      "source": [
        "**Далее рассмотрим аномалии**"
      ],
      "metadata": {
        "id": "OWhyuMkJJb1c"
      },
      "id": "OWhyuMkJJb1c"
    },
    {
      "cell_type": "code",
      "execution_count": 26,
      "id": "2739f045",
      "metadata": {
        "execution": {
          "iopub.execute_input": "2021-08-18T17:20:00.164916Z",
          "iopub.status.busy": "2021-08-18T17:20:00.162254Z",
          "iopub.status.idle": "2021-08-18T17:20:00.215222Z",
          "shell.execute_reply": "2021-08-18T17:20:00.215693Z",
          "shell.execute_reply.started": "2021-08-18T17:12:07.768867Z"
        },
        "papermill": {
          "duration": 0.113056,
          "end_time": "2021-08-18T17:20:00.215861",
          "exception": false,
          "start_time": "2021-08-18T17:20:00.102805",
          "status": "completed"
        },
        "tags": [],
        "colab": {
          "base_uri": "https://localhost:8080/",
          "height": 379
        },
        "id": "2739f045",
        "outputId": "48bd1e98-d372-4551-9dd6-8687c8b00c92"
      },
      "outputs": [
        {
          "output_type": "execute_result",
          "data": {
            "text/plain": [
              "       Annual Income  Years in current job    Tax Liens  \\\n",
              "count   7.500000e+03           7500.000000  7500.000000   \n",
              "mean    1.366392e+06              6.540000     0.030133   \n",
              "std     7.524812e+05              3.831826     0.271604   \n",
              "min     1.645970e+05              0.000000     0.000000   \n",
              "25%     9.311330e+05              3.000000     0.000000   \n",
              "50%     1.366392e+06              7.000000     0.000000   \n",
              "75%     1.499974e+06             11.000000     0.000000   \n",
              "max     1.014934e+07             11.000000     7.000000   \n",
              "\n",
              "       Number of Open Accounts  Years of Credit History  Maximum Open Credit  \\\n",
              "count              7500.000000              7500.000000         7.500000e+03   \n",
              "mean                 11.130933                18.317467         9.451537e+05   \n",
              "std                   4.908924                 7.041946         1.602622e+07   \n",
              "min                   2.000000                 4.000000         0.000000e+00   \n",
              "25%                   8.000000                13.500000         2.792295e+05   \n",
              "50%                  10.000000                17.000000         4.781590e+05   \n",
              "75%                  14.000000                21.800000         7.935015e+05   \n",
              "max                  43.000000                57.700000         1.304726e+09   \n",
              "\n",
              "       Number of Credit Problems  Months since last delinquent  Bankruptcies  \\\n",
              "count                7500.000000                   7500.000000   7500.000000   \n",
              "mean                    0.170000                     15.815200      0.116933   \n",
              "std                     0.498598                     22.649441      0.346904   \n",
              "min                     0.000000                      0.000000      0.000000   \n",
              "25%                     0.000000                      0.000000      0.000000   \n",
              "50%                     0.000000                      0.000000      0.000000   \n",
              "75%                     0.000000                     29.000000      0.000000   \n",
              "max                     7.000000                    118.000000      4.000000   \n",
              "\n",
              "       Current Loan Amount  Current Credit Balance   Monthly Debt  \\\n",
              "count         7.500000e+03            7.500000e+03    7500.000000   \n",
              "mean          1.187318e+07            2.898332e+05   18314.454133   \n",
              "std           3.192612e+07            3.178714e+05   11926.764673   \n",
              "min           1.124200e+04            0.000000e+00       0.000000   \n",
              "25%           1.801690e+05            1.142565e+05   10067.500000   \n",
              "50%           3.095730e+05            2.093230e+05   16076.500000   \n",
              "75%           5.198820e+05            3.604062e+05   23818.000000   \n",
              "max           1.000000e+08            6.506797e+06  136679.000000   \n",
              "\n",
              "       Credit Score  Credit Default  \n",
              "count   7500.000000     7500.000000  \n",
              "mean     912.121733        0.281733  \n",
              "std     1502.588014        0.449874  \n",
              "min        0.000000        0.000000  \n",
              "25%      667.000000        0.000000  \n",
              "50%      722.000000        0.000000  \n",
              "75%      740.000000        1.000000  \n",
              "max     7510.000000        1.000000  "
            ],
            "text/html": [
              "\n",
              "  <div id=\"df-3dac9bc3-1ba1-419d-8a43-f1fdd3c41e18\">\n",
              "    <div class=\"colab-df-container\">\n",
              "      <div>\n",
              "<style scoped>\n",
              "    .dataframe tbody tr th:only-of-type {\n",
              "        vertical-align: middle;\n",
              "    }\n",
              "\n",
              "    .dataframe tbody tr th {\n",
              "        vertical-align: top;\n",
              "    }\n",
              "\n",
              "    .dataframe thead th {\n",
              "        text-align: right;\n",
              "    }\n",
              "</style>\n",
              "<table border=\"1\" class=\"dataframe\">\n",
              "  <thead>\n",
              "    <tr style=\"text-align: right;\">\n",
              "      <th></th>\n",
              "      <th>Annual Income</th>\n",
              "      <th>Years in current job</th>\n",
              "      <th>Tax Liens</th>\n",
              "      <th>Number of Open Accounts</th>\n",
              "      <th>Years of Credit History</th>\n",
              "      <th>Maximum Open Credit</th>\n",
              "      <th>Number of Credit Problems</th>\n",
              "      <th>Months since last delinquent</th>\n",
              "      <th>Bankruptcies</th>\n",
              "      <th>Current Loan Amount</th>\n",
              "      <th>Current Credit Balance</th>\n",
              "      <th>Monthly Debt</th>\n",
              "      <th>Credit Score</th>\n",
              "      <th>Credit Default</th>\n",
              "    </tr>\n",
              "  </thead>\n",
              "  <tbody>\n",
              "    <tr>\n",
              "      <th>count</th>\n",
              "      <td>7.500000e+03</td>\n",
              "      <td>7500.000000</td>\n",
              "      <td>7500.000000</td>\n",
              "      <td>7500.000000</td>\n",
              "      <td>7500.000000</td>\n",
              "      <td>7.500000e+03</td>\n",
              "      <td>7500.000000</td>\n",
              "      <td>7500.000000</td>\n",
              "      <td>7500.000000</td>\n",
              "      <td>7.500000e+03</td>\n",
              "      <td>7.500000e+03</td>\n",
              "      <td>7500.000000</td>\n",
              "      <td>7500.000000</td>\n",
              "      <td>7500.000000</td>\n",
              "    </tr>\n",
              "    <tr>\n",
              "      <th>mean</th>\n",
              "      <td>1.366392e+06</td>\n",
              "      <td>6.540000</td>\n",
              "      <td>0.030133</td>\n",
              "      <td>11.130933</td>\n",
              "      <td>18.317467</td>\n",
              "      <td>9.451537e+05</td>\n",
              "      <td>0.170000</td>\n",
              "      <td>15.815200</td>\n",
              "      <td>0.116933</td>\n",
              "      <td>1.187318e+07</td>\n",
              "      <td>2.898332e+05</td>\n",
              "      <td>18314.454133</td>\n",
              "      <td>912.121733</td>\n",
              "      <td>0.281733</td>\n",
              "    </tr>\n",
              "    <tr>\n",
              "      <th>std</th>\n",
              "      <td>7.524812e+05</td>\n",
              "      <td>3.831826</td>\n",
              "      <td>0.271604</td>\n",
              "      <td>4.908924</td>\n",
              "      <td>7.041946</td>\n",
              "      <td>1.602622e+07</td>\n",
              "      <td>0.498598</td>\n",
              "      <td>22.649441</td>\n",
              "      <td>0.346904</td>\n",
              "      <td>3.192612e+07</td>\n",
              "      <td>3.178714e+05</td>\n",
              "      <td>11926.764673</td>\n",
              "      <td>1502.588014</td>\n",
              "      <td>0.449874</td>\n",
              "    </tr>\n",
              "    <tr>\n",
              "      <th>min</th>\n",
              "      <td>1.645970e+05</td>\n",
              "      <td>0.000000</td>\n",
              "      <td>0.000000</td>\n",
              "      <td>2.000000</td>\n",
              "      <td>4.000000</td>\n",
              "      <td>0.000000e+00</td>\n",
              "      <td>0.000000</td>\n",
              "      <td>0.000000</td>\n",
              "      <td>0.000000</td>\n",
              "      <td>1.124200e+04</td>\n",
              "      <td>0.000000e+00</td>\n",
              "      <td>0.000000</td>\n",
              "      <td>0.000000</td>\n",
              "      <td>0.000000</td>\n",
              "    </tr>\n",
              "    <tr>\n",
              "      <th>25%</th>\n",
              "      <td>9.311330e+05</td>\n",
              "      <td>3.000000</td>\n",
              "      <td>0.000000</td>\n",
              "      <td>8.000000</td>\n",
              "      <td>13.500000</td>\n",
              "      <td>2.792295e+05</td>\n",
              "      <td>0.000000</td>\n",
              "      <td>0.000000</td>\n",
              "      <td>0.000000</td>\n",
              "      <td>1.801690e+05</td>\n",
              "      <td>1.142565e+05</td>\n",
              "      <td>10067.500000</td>\n",
              "      <td>667.000000</td>\n",
              "      <td>0.000000</td>\n",
              "    </tr>\n",
              "    <tr>\n",
              "      <th>50%</th>\n",
              "      <td>1.366392e+06</td>\n",
              "      <td>7.000000</td>\n",
              "      <td>0.000000</td>\n",
              "      <td>10.000000</td>\n",
              "      <td>17.000000</td>\n",
              "      <td>4.781590e+05</td>\n",
              "      <td>0.000000</td>\n",
              "      <td>0.000000</td>\n",
              "      <td>0.000000</td>\n",
              "      <td>3.095730e+05</td>\n",
              "      <td>2.093230e+05</td>\n",
              "      <td>16076.500000</td>\n",
              "      <td>722.000000</td>\n",
              "      <td>0.000000</td>\n",
              "    </tr>\n",
              "    <tr>\n",
              "      <th>75%</th>\n",
              "      <td>1.499974e+06</td>\n",
              "      <td>11.000000</td>\n",
              "      <td>0.000000</td>\n",
              "      <td>14.000000</td>\n",
              "      <td>21.800000</td>\n",
              "      <td>7.935015e+05</td>\n",
              "      <td>0.000000</td>\n",
              "      <td>29.000000</td>\n",
              "      <td>0.000000</td>\n",
              "      <td>5.198820e+05</td>\n",
              "      <td>3.604062e+05</td>\n",
              "      <td>23818.000000</td>\n",
              "      <td>740.000000</td>\n",
              "      <td>1.000000</td>\n",
              "    </tr>\n",
              "    <tr>\n",
              "      <th>max</th>\n",
              "      <td>1.014934e+07</td>\n",
              "      <td>11.000000</td>\n",
              "      <td>7.000000</td>\n",
              "      <td>43.000000</td>\n",
              "      <td>57.700000</td>\n",
              "      <td>1.304726e+09</td>\n",
              "      <td>7.000000</td>\n",
              "      <td>118.000000</td>\n",
              "      <td>4.000000</td>\n",
              "      <td>1.000000e+08</td>\n",
              "      <td>6.506797e+06</td>\n",
              "      <td>136679.000000</td>\n",
              "      <td>7510.000000</td>\n",
              "      <td>1.000000</td>\n",
              "    </tr>\n",
              "  </tbody>\n",
              "</table>\n",
              "</div>\n",
              "      <button class=\"colab-df-convert\" onclick=\"convertToInteractive('df-3dac9bc3-1ba1-419d-8a43-f1fdd3c41e18')\"\n",
              "              title=\"Convert this dataframe to an interactive table.\"\n",
              "              style=\"display:none;\">\n",
              "        \n",
              "  <svg xmlns=\"http://www.w3.org/2000/svg\" height=\"24px\"viewBox=\"0 0 24 24\"\n",
              "       width=\"24px\">\n",
              "    <path d=\"M0 0h24v24H0V0z\" fill=\"none\"/>\n",
              "    <path d=\"M18.56 5.44l.94 2.06.94-2.06 2.06-.94-2.06-.94-.94-2.06-.94 2.06-2.06.94zm-11 1L8.5 8.5l.94-2.06 2.06-.94-2.06-.94L8.5 2.5l-.94 2.06-2.06.94zm10 10l.94 2.06.94-2.06 2.06-.94-2.06-.94-.94-2.06-.94 2.06-2.06.94z\"/><path d=\"M17.41 7.96l-1.37-1.37c-.4-.4-.92-.59-1.43-.59-.52 0-1.04.2-1.43.59L10.3 9.45l-7.72 7.72c-.78.78-.78 2.05 0 2.83L4 21.41c.39.39.9.59 1.41.59.51 0 1.02-.2 1.41-.59l7.78-7.78 2.81-2.81c.8-.78.8-2.07 0-2.86zM5.41 20L4 18.59l7.72-7.72 1.47 1.35L5.41 20z\"/>\n",
              "  </svg>\n",
              "      </button>\n",
              "      \n",
              "  <style>\n",
              "    .colab-df-container {\n",
              "      display:flex;\n",
              "      flex-wrap:wrap;\n",
              "      gap: 12px;\n",
              "    }\n",
              "\n",
              "    .colab-df-convert {\n",
              "      background-color: #E8F0FE;\n",
              "      border: none;\n",
              "      border-radius: 50%;\n",
              "      cursor: pointer;\n",
              "      display: none;\n",
              "      fill: #1967D2;\n",
              "      height: 32px;\n",
              "      padding: 0 0 0 0;\n",
              "      width: 32px;\n",
              "    }\n",
              "\n",
              "    .colab-df-convert:hover {\n",
              "      background-color: #E2EBFA;\n",
              "      box-shadow: 0px 1px 2px rgba(60, 64, 67, 0.3), 0px 1px 3px 1px rgba(60, 64, 67, 0.15);\n",
              "      fill: #174EA6;\n",
              "    }\n",
              "\n",
              "    [theme=dark] .colab-df-convert {\n",
              "      background-color: #3B4455;\n",
              "      fill: #D2E3FC;\n",
              "    }\n",
              "\n",
              "    [theme=dark] .colab-df-convert:hover {\n",
              "      background-color: #434B5C;\n",
              "      box-shadow: 0px 1px 3px 1px rgba(0, 0, 0, 0.15);\n",
              "      filter: drop-shadow(0px 1px 2px rgba(0, 0, 0, 0.3));\n",
              "      fill: #FFFFFF;\n",
              "    }\n",
              "  </style>\n",
              "\n",
              "      <script>\n",
              "        const buttonEl =\n",
              "          document.querySelector('#df-3dac9bc3-1ba1-419d-8a43-f1fdd3c41e18 button.colab-df-convert');\n",
              "        buttonEl.style.display =\n",
              "          google.colab.kernel.accessAllowed ? 'block' : 'none';\n",
              "\n",
              "        async function convertToInteractive(key) {\n",
              "          const element = document.querySelector('#df-3dac9bc3-1ba1-419d-8a43-f1fdd3c41e18');\n",
              "          const dataTable =\n",
              "            await google.colab.kernel.invokeFunction('convertToInteractive',\n",
              "                                                     [key], {});\n",
              "          if (!dataTable) return;\n",
              "\n",
              "          const docLinkHtml = 'Like what you see? Visit the ' +\n",
              "            '<a target=\"_blank\" href=https://colab.research.google.com/notebooks/data_table.ipynb>data table notebook</a>'\n",
              "            + ' to learn more about interactive tables.';\n",
              "          element.innerHTML = '';\n",
              "          dataTable['output_type'] = 'display_data';\n",
              "          await google.colab.output.renderOutput(dataTable, element);\n",
              "          const docLink = document.createElement('div');\n",
              "          docLink.innerHTML = docLinkHtml;\n",
              "          element.appendChild(docLink);\n",
              "        }\n",
              "      </script>\n",
              "    </div>\n",
              "  </div>\n",
              "  "
            ]
          },
          "metadata": {},
          "execution_count": 26
        }
      ],
      "source": [
        "train_df.describe()"
      ]
    },
    {
      "cell_type": "markdown",
      "id": "7964e3af",
      "metadata": {
        "papermill": {
          "duration": 0.053343,
          "end_time": "2021-08-18T17:20:00.322421",
          "exception": false,
          "start_time": "2021-08-18T17:20:00.269078",
          "status": "completed"
        },
        "tags": [],
        "id": "7964e3af"
      },
      "source": [
        "Как видно, медианное значение у признака Current Loan Amount существенно отличается от квантиля 50%. Судя по всему, справа есть выбросы. Максимальное значение = 1.000000e+08 (это примерно 100 000 000), \n",
        "в то время как 75% квантиль = 5.198820e+05 (519 882). Значение 1.000000e+08 похоже на аномалию. Заменим его на среднее значение."
      ]
    },
    {
      "cell_type": "code",
      "execution_count": 27,
      "id": "8f978985",
      "metadata": {
        "execution": {
          "iopub.execute_input": "2021-08-18T17:20:00.434392Z",
          "iopub.status.busy": "2021-08-18T17:20:00.432700Z",
          "iopub.status.idle": "2021-08-18T17:20:00.438728Z",
          "shell.execute_reply": "2021-08-18T17:20:00.438216Z",
          "shell.execute_reply.started": "2021-08-18T17:12:07.833591Z"
        },
        "papermill": {
          "duration": 0.062977,
          "end_time": "2021-08-18T17:20:00.438857",
          "exception": false,
          "start_time": "2021-08-18T17:20:00.375880",
          "status": "completed"
        },
        "tags": [],
        "colab": {
          "base_uri": "https://localhost:8080/"
        },
        "id": "8f978985",
        "outputId": "455f3f8c-b03b-4ce2-c7a4-ef461701588e"
      },
      "outputs": [
        {
          "output_type": "execute_result",
          "data": {
            "text/plain": [
              "99999999.0"
            ]
          },
          "metadata": {},
          "execution_count": 27
        }
      ],
      "source": [
        "c_max_value = np.quantile(train_df['Current Loan Amount'], q=0.975)\n",
        "c_max_value"
      ]
    },
    {
      "cell_type": "code",
      "execution_count": 28,
      "id": "0294550f",
      "metadata": {
        "execution": {
          "iopub.execute_input": "2021-08-18T17:20:00.660177Z",
          "iopub.status.busy": "2021-08-18T17:20:00.659359Z",
          "iopub.status.idle": "2021-08-18T17:20:00.662079Z",
          "shell.execute_reply": "2021-08-18T17:20:00.662782Z",
          "shell.execute_reply.started": "2021-08-18T17:12:07.842667Z"
        },
        "papermill": {
          "duration": 0.062523,
          "end_time": "2021-08-18T17:20:00.663040",
          "exception": false,
          "start_time": "2021-08-18T17:20:00.600517",
          "status": "completed"
        },
        "tags": [],
        "id": "0294550f"
      },
      "outputs": [],
      "source": [
        "train_df.loc[train_df['Current Loan Amount'] == 99999999, 'Current Loan Amount'] = train_df['Current Loan Amount'].mean()"
      ]
    },
    {
      "cell_type": "code",
      "source": [
        "test_df.describe()"
      ],
      "metadata": {
        "colab": {
          "base_uri": "https://localhost:8080/",
          "height": 379
        },
        "id": "OiJt92Gdetf3",
        "outputId": "08118b67-3a4f-4bf6-ca1f-6f12c3e3c914"
      },
      "id": "OiJt92Gdetf3",
      "execution_count": 29,
      "outputs": [
        {
          "output_type": "execute_result",
          "data": {
            "text/plain": [
              "       Annual Income  Years in current job    Tax Liens  \\\n",
              "count   2.500000e+03           2500.000000  2500.000000   \n",
              "mean    1.366922e+06              6.710800     0.035200   \n",
              "std     8.175891e+05              3.791374     0.386291   \n",
              "min     1.065330e+05              0.000000     0.000000   \n",
              "25%     9.365622e+05              3.000000     0.000000   \n",
              "50%     1.366922e+06              7.000000     0.000000   \n",
              "75%     1.488726e+06             11.000000     0.000000   \n",
              "max     1.497561e+07             11.000000    15.000000   \n",
              "\n",
              "       Number of Open Accounts  Years of Credit History  Maximum Open Credit  \\\n",
              "count              2500.000000              2500.000000         2.500000e+03   \n",
              "mean                 11.184400                18.325920         7.105704e+05   \n",
              "std                   4.852774                 7.254659         1.511983e+06   \n",
              "min                   1.000000                 3.900000         0.000000e+00   \n",
              "25%                   8.000000                13.400000         2.785860e+05   \n",
              "50%                  10.000000                17.000000         4.786760e+05   \n",
              "75%                  14.000000                22.100000         8.025985e+05   \n",
              "max                  48.000000                53.400000         5.448439e+07   \n",
              "\n",
              "       Number of Credit Problems  Months since last delinquent  Bankruptcies  \\\n",
              "count                2500.000000                   2500.000000   2500.000000   \n",
              "mean                    0.162000                     15.614000      0.106800   \n",
              "std                     0.559894                     22.616348      0.356994   \n",
              "min                     0.000000                      0.000000      0.000000   \n",
              "25%                     0.000000                      0.000000      0.000000   \n",
              "50%                     0.000000                      0.000000      0.000000   \n",
              "75%                     0.000000                     27.000000      0.000000   \n",
              "max                    15.000000                     82.000000      5.000000   \n",
              "\n",
              "       Current Loan Amount  Current Credit Balance  Monthly Debt  Credit Score  \n",
              "count         2.500000e+03            2.500000e+03   2500.000000   2500.000000  \n",
              "mean          1.215572e+07            2.963966e+05  18271.340000    981.194000  \n",
              "std           3.226097e+07            3.783020e+05  11543.881469   1629.525434  \n",
              "min           1.542200e+04            0.000000e+00     93.000000      0.000000  \n",
              "25%           1.871265e+05            1.101145e+05  10024.750000    668.000000  \n",
              "50%           3.223660e+05            2.073850e+05  16642.500000    722.000000  \n",
              "75%           5.225825e+05            3.663485e+05  24146.000000    741.000000  \n",
              "max           1.000000e+08            6.030087e+06  93555.000000   7480.000000  "
            ],
            "text/html": [
              "\n",
              "  <div id=\"df-63bfe728-1584-4b02-93dd-25b3c6207955\">\n",
              "    <div class=\"colab-df-container\">\n",
              "      <div>\n",
              "<style scoped>\n",
              "    .dataframe tbody tr th:only-of-type {\n",
              "        vertical-align: middle;\n",
              "    }\n",
              "\n",
              "    .dataframe tbody tr th {\n",
              "        vertical-align: top;\n",
              "    }\n",
              "\n",
              "    .dataframe thead th {\n",
              "        text-align: right;\n",
              "    }\n",
              "</style>\n",
              "<table border=\"1\" class=\"dataframe\">\n",
              "  <thead>\n",
              "    <tr style=\"text-align: right;\">\n",
              "      <th></th>\n",
              "      <th>Annual Income</th>\n",
              "      <th>Years in current job</th>\n",
              "      <th>Tax Liens</th>\n",
              "      <th>Number of Open Accounts</th>\n",
              "      <th>Years of Credit History</th>\n",
              "      <th>Maximum Open Credit</th>\n",
              "      <th>Number of Credit Problems</th>\n",
              "      <th>Months since last delinquent</th>\n",
              "      <th>Bankruptcies</th>\n",
              "      <th>Current Loan Amount</th>\n",
              "      <th>Current Credit Balance</th>\n",
              "      <th>Monthly Debt</th>\n",
              "      <th>Credit Score</th>\n",
              "    </tr>\n",
              "  </thead>\n",
              "  <tbody>\n",
              "    <tr>\n",
              "      <th>count</th>\n",
              "      <td>2.500000e+03</td>\n",
              "      <td>2500.000000</td>\n",
              "      <td>2500.000000</td>\n",
              "      <td>2500.000000</td>\n",
              "      <td>2500.000000</td>\n",
              "      <td>2.500000e+03</td>\n",
              "      <td>2500.000000</td>\n",
              "      <td>2500.000000</td>\n",
              "      <td>2500.000000</td>\n",
              "      <td>2.500000e+03</td>\n",
              "      <td>2.500000e+03</td>\n",
              "      <td>2500.000000</td>\n",
              "      <td>2500.000000</td>\n",
              "    </tr>\n",
              "    <tr>\n",
              "      <th>mean</th>\n",
              "      <td>1.366922e+06</td>\n",
              "      <td>6.710800</td>\n",
              "      <td>0.035200</td>\n",
              "      <td>11.184400</td>\n",
              "      <td>18.325920</td>\n",
              "      <td>7.105704e+05</td>\n",
              "      <td>0.162000</td>\n",
              "      <td>15.614000</td>\n",
              "      <td>0.106800</td>\n",
              "      <td>1.215572e+07</td>\n",
              "      <td>2.963966e+05</td>\n",
              "      <td>18271.340000</td>\n",
              "      <td>981.194000</td>\n",
              "    </tr>\n",
              "    <tr>\n",
              "      <th>std</th>\n",
              "      <td>8.175891e+05</td>\n",
              "      <td>3.791374</td>\n",
              "      <td>0.386291</td>\n",
              "      <td>4.852774</td>\n",
              "      <td>7.254659</td>\n",
              "      <td>1.511983e+06</td>\n",
              "      <td>0.559894</td>\n",
              "      <td>22.616348</td>\n",
              "      <td>0.356994</td>\n",
              "      <td>3.226097e+07</td>\n",
              "      <td>3.783020e+05</td>\n",
              "      <td>11543.881469</td>\n",
              "      <td>1629.525434</td>\n",
              "    </tr>\n",
              "    <tr>\n",
              "      <th>min</th>\n",
              "      <td>1.065330e+05</td>\n",
              "      <td>0.000000</td>\n",
              "      <td>0.000000</td>\n",
              "      <td>1.000000</td>\n",
              "      <td>3.900000</td>\n",
              "      <td>0.000000e+00</td>\n",
              "      <td>0.000000</td>\n",
              "      <td>0.000000</td>\n",
              "      <td>0.000000</td>\n",
              "      <td>1.542200e+04</td>\n",
              "      <td>0.000000e+00</td>\n",
              "      <td>93.000000</td>\n",
              "      <td>0.000000</td>\n",
              "    </tr>\n",
              "    <tr>\n",
              "      <th>25%</th>\n",
              "      <td>9.365622e+05</td>\n",
              "      <td>3.000000</td>\n",
              "      <td>0.000000</td>\n",
              "      <td>8.000000</td>\n",
              "      <td>13.400000</td>\n",
              "      <td>2.785860e+05</td>\n",
              "      <td>0.000000</td>\n",
              "      <td>0.000000</td>\n",
              "      <td>0.000000</td>\n",
              "      <td>1.871265e+05</td>\n",
              "      <td>1.101145e+05</td>\n",
              "      <td>10024.750000</td>\n",
              "      <td>668.000000</td>\n",
              "    </tr>\n",
              "    <tr>\n",
              "      <th>50%</th>\n",
              "      <td>1.366922e+06</td>\n",
              "      <td>7.000000</td>\n",
              "      <td>0.000000</td>\n",
              "      <td>10.000000</td>\n",
              "      <td>17.000000</td>\n",
              "      <td>4.786760e+05</td>\n",
              "      <td>0.000000</td>\n",
              "      <td>0.000000</td>\n",
              "      <td>0.000000</td>\n",
              "      <td>3.223660e+05</td>\n",
              "      <td>2.073850e+05</td>\n",
              "      <td>16642.500000</td>\n",
              "      <td>722.000000</td>\n",
              "    </tr>\n",
              "    <tr>\n",
              "      <th>75%</th>\n",
              "      <td>1.488726e+06</td>\n",
              "      <td>11.000000</td>\n",
              "      <td>0.000000</td>\n",
              "      <td>14.000000</td>\n",
              "      <td>22.100000</td>\n",
              "      <td>8.025985e+05</td>\n",
              "      <td>0.000000</td>\n",
              "      <td>27.000000</td>\n",
              "      <td>0.000000</td>\n",
              "      <td>5.225825e+05</td>\n",
              "      <td>3.663485e+05</td>\n",
              "      <td>24146.000000</td>\n",
              "      <td>741.000000</td>\n",
              "    </tr>\n",
              "    <tr>\n",
              "      <th>max</th>\n",
              "      <td>1.497561e+07</td>\n",
              "      <td>11.000000</td>\n",
              "      <td>15.000000</td>\n",
              "      <td>48.000000</td>\n",
              "      <td>53.400000</td>\n",
              "      <td>5.448439e+07</td>\n",
              "      <td>15.000000</td>\n",
              "      <td>82.000000</td>\n",
              "      <td>5.000000</td>\n",
              "      <td>1.000000e+08</td>\n",
              "      <td>6.030087e+06</td>\n",
              "      <td>93555.000000</td>\n",
              "      <td>7480.000000</td>\n",
              "    </tr>\n",
              "  </tbody>\n",
              "</table>\n",
              "</div>\n",
              "      <button class=\"colab-df-convert\" onclick=\"convertToInteractive('df-63bfe728-1584-4b02-93dd-25b3c6207955')\"\n",
              "              title=\"Convert this dataframe to an interactive table.\"\n",
              "              style=\"display:none;\">\n",
              "        \n",
              "  <svg xmlns=\"http://www.w3.org/2000/svg\" height=\"24px\"viewBox=\"0 0 24 24\"\n",
              "       width=\"24px\">\n",
              "    <path d=\"M0 0h24v24H0V0z\" fill=\"none\"/>\n",
              "    <path d=\"M18.56 5.44l.94 2.06.94-2.06 2.06-.94-2.06-.94-.94-2.06-.94 2.06-2.06.94zm-11 1L8.5 8.5l.94-2.06 2.06-.94-2.06-.94L8.5 2.5l-.94 2.06-2.06.94zm10 10l.94 2.06.94-2.06 2.06-.94-2.06-.94-.94-2.06-.94 2.06-2.06.94z\"/><path d=\"M17.41 7.96l-1.37-1.37c-.4-.4-.92-.59-1.43-.59-.52 0-1.04.2-1.43.59L10.3 9.45l-7.72 7.72c-.78.78-.78 2.05 0 2.83L4 21.41c.39.39.9.59 1.41.59.51 0 1.02-.2 1.41-.59l7.78-7.78 2.81-2.81c.8-.78.8-2.07 0-2.86zM5.41 20L4 18.59l7.72-7.72 1.47 1.35L5.41 20z\"/>\n",
              "  </svg>\n",
              "      </button>\n",
              "      \n",
              "  <style>\n",
              "    .colab-df-container {\n",
              "      display:flex;\n",
              "      flex-wrap:wrap;\n",
              "      gap: 12px;\n",
              "    }\n",
              "\n",
              "    .colab-df-convert {\n",
              "      background-color: #E8F0FE;\n",
              "      border: none;\n",
              "      border-radius: 50%;\n",
              "      cursor: pointer;\n",
              "      display: none;\n",
              "      fill: #1967D2;\n",
              "      height: 32px;\n",
              "      padding: 0 0 0 0;\n",
              "      width: 32px;\n",
              "    }\n",
              "\n",
              "    .colab-df-convert:hover {\n",
              "      background-color: #E2EBFA;\n",
              "      box-shadow: 0px 1px 2px rgba(60, 64, 67, 0.3), 0px 1px 3px 1px rgba(60, 64, 67, 0.15);\n",
              "      fill: #174EA6;\n",
              "    }\n",
              "\n",
              "    [theme=dark] .colab-df-convert {\n",
              "      background-color: #3B4455;\n",
              "      fill: #D2E3FC;\n",
              "    }\n",
              "\n",
              "    [theme=dark] .colab-df-convert:hover {\n",
              "      background-color: #434B5C;\n",
              "      box-shadow: 0px 1px 3px 1px rgba(0, 0, 0, 0.15);\n",
              "      filter: drop-shadow(0px 1px 2px rgba(0, 0, 0, 0.3));\n",
              "      fill: #FFFFFF;\n",
              "    }\n",
              "  </style>\n",
              "\n",
              "      <script>\n",
              "        const buttonEl =\n",
              "          document.querySelector('#df-63bfe728-1584-4b02-93dd-25b3c6207955 button.colab-df-convert');\n",
              "        buttonEl.style.display =\n",
              "          google.colab.kernel.accessAllowed ? 'block' : 'none';\n",
              "\n",
              "        async function convertToInteractive(key) {\n",
              "          const element = document.querySelector('#df-63bfe728-1584-4b02-93dd-25b3c6207955');\n",
              "          const dataTable =\n",
              "            await google.colab.kernel.invokeFunction('convertToInteractive',\n",
              "                                                     [key], {});\n",
              "          if (!dataTable) return;\n",
              "\n",
              "          const docLinkHtml = 'Like what you see? Visit the ' +\n",
              "            '<a target=\"_blank\" href=https://colab.research.google.com/notebooks/data_table.ipynb>data table notebook</a>'\n",
              "            + ' to learn more about interactive tables.';\n",
              "          element.innerHTML = '';\n",
              "          dataTable['output_type'] = 'display_data';\n",
              "          await google.colab.output.renderOutput(dataTable, element);\n",
              "          const docLink = document.createElement('div');\n",
              "          docLink.innerHTML = docLinkHtml;\n",
              "          element.appendChild(docLink);\n",
              "        }\n",
              "      </script>\n",
              "    </div>\n",
              "  </div>\n",
              "  "
            ]
          },
          "metadata": {},
          "execution_count": 29
        }
      ]
    },
    {
      "cell_type": "markdown",
      "source": [
        "В test датасете аналогичная картина у максимального значения признака Current \n",
        "Loan Amount. Также заменим его на среднее значение."
      ],
      "metadata": {
        "id": "OIWV7GYGexXf"
      },
      "id": "OIWV7GYGexXf"
    },
    {
      "cell_type": "code",
      "source": [
        "c_max_value = np.quantile(test_df['Current Loan Amount'], q=0.975)\n",
        "c_max_value"
      ],
      "metadata": {
        "colab": {
          "base_uri": "https://localhost:8080/"
        },
        "id": "6mcM1oP8fRlO",
        "outputId": "8e2a09aa-7e35-4701-bda3-0e5589df0292"
      },
      "id": "6mcM1oP8fRlO",
      "execution_count": 30,
      "outputs": [
        {
          "output_type": "execute_result",
          "data": {
            "text/plain": [
              "99999999.0"
            ]
          },
          "metadata": {},
          "execution_count": 30
        }
      ]
    },
    {
      "cell_type": "code",
      "source": [
        "test_df.loc[train_df['Current Loan Amount'] == 99999999, 'Current Loan Amount'] = test_df['Current Loan Amount'].mean()"
      ],
      "metadata": {
        "id": "5r9ltvC8fVuG"
      },
      "id": "5r9ltvC8fVuG",
      "execution_count": 31,
      "outputs": []
    },
    {
      "cell_type": "markdown",
      "id": "59919c7b",
      "metadata": {
        "papermill": {
          "duration": 0.053314,
          "end_time": "2021-08-18T17:20:01.232038",
          "exception": false,
          "start_time": "2021-08-18T17:20:01.178724",
          "status": "completed"
        },
        "tags": [],
        "id": "59919c7b"
      },
      "source": [
        "**Корреляция таргета с базовыми признаками в train датасете**"
      ]
    },
    {
      "cell_type": "code",
      "execution_count": 32,
      "id": "21beca70",
      "metadata": {
        "execution": {
          "iopub.execute_input": "2021-08-18T17:20:01.119645Z",
          "iopub.status.busy": "2021-08-18T17:20:01.118576Z",
          "iopub.status.idle": "2021-08-18T17:20:01.123203Z",
          "shell.execute_reply": "2021-08-18T17:20:01.123788Z",
          "shell.execute_reply.started": "2021-08-18T17:12:07.877657Z"
        },
        "papermill": {
          "duration": 0.06273,
          "end_time": "2021-08-18T17:20:01.123978",
          "exception": false,
          "start_time": "2021-08-18T17:20:01.061248",
          "status": "completed"
        },
        "tags": [],
        "id": "21beca70"
      },
      "outputs": [],
      "source": [
        "TARGET_NAME = 'Credit Default'\n",
        "BASE_FEATURE_NAMES = train_df.columns.drop(TARGET_NAME).tolist()"
      ]
    },
    {
      "cell_type": "code",
      "execution_count": 33,
      "id": "3dcc9b78",
      "metadata": {
        "execution": {
          "iopub.execute_input": "2021-08-18T17:20:01.344068Z",
          "iopub.status.busy": "2021-08-18T17:20:01.343095Z",
          "iopub.status.idle": "2021-08-18T17:20:01.593800Z",
          "shell.execute_reply": "2021-08-18T17:20:01.593121Z",
          "shell.execute_reply.started": "2021-08-18T17:12:07.888080Z"
        },
        "papermill": {
          "duration": 0.307842,
          "end_time": "2021-08-18T17:20:01.593938",
          "exception": false,
          "start_time": "2021-08-18T17:20:01.286096",
          "status": "completed"
        },
        "tags": [],
        "colab": {
          "base_uri": "https://localhost:8080/",
          "height": 708
        },
        "id": "3dcc9b78",
        "outputId": "854df155-a634-4421-ade4-97f2fd606f01"
      },
      "outputs": [
        {
          "output_type": "display_data",
          "data": {
            "text/plain": [
              "<Figure size 1000x800 with 1 Axes>"
            ],
            "image/png": "[encoded data removed]"
          },
          "metadata": {}
        }
      ],
      "source": [
        "corr_with_target = train_df[BASE_FEATURE_NAMES + [TARGET_NAME]].corr().iloc[:-1, -1].sort_values(ascending=False)\n",
        "\n",
        "plt.figure(figsize=(10, 8))\n",
        "\n",
        "sns.barplot(x=corr_with_target.values, y=corr_with_target.index)\n",
        "\n",
        "plt.title('Корреляция с целевой переменной')\n",
        "plt.show()"
      ]
    },
    {
      "cell_type": "markdown",
      "source": [
        "Как видно, признак Bankruptcies имеет фактически нулевое влияние на целевую переменную. Тем не менее, отсавим его при отборе признаков."
      ],
      "metadata": {
        "id": "niBFFpe3c7xe"
      },
      "id": "niBFFpe3c7xe"
    },
    {
      "cell_type": "code",
      "execution_count": 34,
      "id": "ea595403",
      "metadata": {
        "execution": {
          "iopub.execute_input": "2021-08-18T17:20:01.001900Z",
          "iopub.status.busy": "2021-08-18T17:20:01.001084Z",
          "iopub.status.idle": "2021-08-18T17:20:01.006723Z",
          "shell.execute_reply": "2021-08-18T17:20:01.007260Z",
          "shell.execute_reply.started": "2021-08-18T17:12:07.870539Z"
        },
        "papermill": {
          "duration": 0.061804,
          "end_time": "2021-08-18T17:20:01.007451",
          "exception": false,
          "start_time": "2021-08-18T17:20:00.945647",
          "status": "completed"
        },
        "tags": [],
        "colab": {
          "base_uri": "https://localhost:8080/"
        },
        "id": "ea595403",
        "outputId": "c8101e19-5bbb-480c-d503-6555ba0e792b"
      },
      "outputs": [
        {
          "output_type": "execute_result",
          "data": {
            "text/plain": [
              "['Home Ownership',\n",
              " 'Annual Income',\n",
              " 'Years in current job',\n",
              " 'Tax Liens',\n",
              " 'Number of Open Accounts',\n",
              " 'Years of Credit History',\n",
              " 'Maximum Open Credit',\n",
              " 'Number of Credit Problems',\n",
              " 'Months since last delinquent',\n",
              " 'Bankruptcies',\n",
              " 'Purpose',\n",
              " 'Term',\n",
              " 'Current Loan Amount',\n",
              " 'Current Credit Balance',\n",
              " 'Monthly Debt',\n",
              " 'Credit Score',\n",
              " 'Credit Default']"
            ]
          },
          "metadata": {},
          "execution_count": 34
        }
      ],
      "source": [
        "train_df.columns.tolist()"
      ]
    },
    {
      "cell_type": "code",
      "execution_count": 35,
      "id": "3fb94852",
      "metadata": {
        "execution": {
          "iopub.execute_input": "2021-08-18T17:20:01.931640Z",
          "iopub.status.busy": "2021-08-18T17:20:01.931018Z",
          "iopub.status.idle": "2021-08-18T17:20:01.934342Z",
          "shell.execute_reply": "2021-08-18T17:20:01.933838Z",
          "shell.execute_reply.started": "2021-08-18T17:12:08.147443Z"
        },
        "papermill": {
          "duration": 0.063717,
          "end_time": "2021-08-18T17:20:01.934468",
          "exception": false,
          "start_time": "2021-08-18T17:20:01.870751",
          "status": "completed"
        },
        "tags": [],
        "id": "3fb94852"
      },
      "outputs": [],
      "source": [
        "NUMERIC_FEATURE_NAMES = ['Annual Income',\n",
        " 'Tax Liens',\n",
        " 'Number of Open Accounts',\n",
        " 'Years of Credit History',\n",
        " 'Maximum Open Credit',\n",
        " 'Number of Credit Problems',\n",
        " 'Months since last delinquent',\n",
        " 'Bankruptcies',\n",
        " 'Current Loan Amount',\n",
        " 'Current Credit Balance',\n",
        " 'Monthly Debt',\n",
        " 'Credit Score']"
      ]
    },
    {
      "cell_type": "markdown",
      "id": "0f9bfae4",
      "metadata": {
        "papermill": {
          "duration": 0.056045,
          "end_time": "2021-08-18T17:20:02.046666",
          "exception": false,
          "start_time": "2021-08-18T17:20:01.990621",
          "status": "completed"
        },
        "tags": [],
        "id": "0f9bfae4"
      },
      "source": [
        "**Нормализация данных**\n"
      ]
    },
    {
      "cell_type": "code",
      "execution_count": 36,
      "id": "13060b93",
      "metadata": {
        "execution": {
          "iopub.execute_input": "2021-08-18T17:20:02.166521Z",
          "iopub.status.busy": "2021-08-18T17:20:02.163008Z",
          "iopub.status.idle": "2021-08-18T17:20:02.199535Z",
          "shell.execute_reply": "2021-08-18T17:20:02.198962Z",
          "shell.execute_reply.started": "2021-08-18T17:12:08.153658Z"
        },
        "papermill": {
          "duration": 0.096901,
          "end_time": "2021-08-18T17:20:02.199677",
          "exception": false,
          "start_time": "2021-08-18T17:20:02.102776",
          "status": "completed"
        },
        "tags": [],
        "id": "13060b93"
      },
      "outputs": [],
      "source": [
        "scaler = StandardScaler()\n",
        "\n",
        "df_norm = train_df.copy()\n",
        "df_norm[NUMERIC_FEATURE_NAMES] = scaler.fit_transform(train_df[NUMERIC_FEATURE_NAMES])\n",
        "\n",
        "train_df = df_norm.copy()"
      ]
    },
    {
      "cell_type": "markdown",
      "id": "d85d312f",
      "metadata": {
        "papermill": {
          "duration": 0.055134,
          "end_time": "2021-08-18T17:20:01.815181",
          "exception": false,
          "start_time": "2021-08-18T17:20:01.760047",
          "status": "completed"
        },
        "tags": [],
        "id": "d85d312f"
      },
      "source": [
        "# **Oбучение модели**"
      ]
    },
    {
      "cell_type": "markdown",
      "id": "a2585eff",
      "metadata": {
        "papermill": {
          "duration": 0.055672,
          "end_time": "2021-08-18T17:20:02.311134",
          "exception": false,
          "start_time": "2021-08-18T17:20:02.255462",
          "status": "completed"
        },
        "tags": [],
        "id": "a2585eff"
      },
      "source": [
        "**Разбиение train в пропорции 75/25**"
      ]
    },
    {
      "cell_type": "code",
      "execution_count": 37,
      "id": "9df62c3d",
      "metadata": {
        "execution": {
          "iopub.execute_input": "2021-08-18T17:20:02.430875Z",
          "iopub.status.busy": "2021-08-18T17:20:02.429885Z",
          "iopub.status.idle": "2021-08-18T17:20:02.435658Z",
          "shell.execute_reply": "2021-08-18T17:20:02.435134Z",
          "shell.execute_reply.started": "2021-08-18T17:12:08.204414Z"
        },
        "papermill": {
          "duration": 0.068658,
          "end_time": "2021-08-18T17:20:02.435794",
          "exception": false,
          "start_time": "2021-08-18T17:20:02.367136",
          "status": "completed"
        },
        "tags": [],
        "id": "9df62c3d"
      },
      "outputs": [],
      "source": [
        "X_train, X_valid, y_train, y_valid = train_test_split(train_df.drop('Credit Default', axis=1), train_df['Credit Default'], train_size=0.75, random_state=42)"
      ]
    },
    {
      "cell_type": "code",
      "execution_count": 38,
      "id": "44e3f36f",
      "metadata": {
        "execution": {
          "iopub.execute_input": "2021-08-18T17:20:02.552196Z",
          "iopub.status.busy": "2021-08-18T17:20:02.551489Z",
          "iopub.status.idle": "2021-08-18T17:20:02.554479Z",
          "shell.execute_reply": "2021-08-18T17:20:02.553832Z",
          "shell.execute_reply.started": "2021-08-18T17:12:08.219625Z"
        },
        "papermill": {
          "duration": 0.063015,
          "end_time": "2021-08-18T17:20:02.554609",
          "exception": false,
          "start_time": "2021-08-18T17:20:02.491594",
          "status": "completed"
        },
        "tags": [],
        "id": "44e3f36f"
      },
      "outputs": [],
      "source": [
        "# Функция вывода отчетности по итогам работы модели (код из урока)\n",
        "\n",
        "def get_classification_report(y_train_true, y_train_pred, y_test_true, y_test_pred):\n",
        "    print('TRAIN\\n\\n' + classification_report(y_train_true, y_train_pred))\n",
        "    print('TEST\\n\\n' + classification_report(y_test_true, y_test_pred))\n",
        "    print('CONFUSION MATRIX\\n')\n",
        "    print(pd.crosstab(y_test_true, y_test_pred))"
      ]
    },
    {
      "cell_type": "markdown",
      "id": "42db979f",
      "metadata": {
        "papermill": {
          "duration": 0.055501,
          "end_time": "2021-08-18T17:20:02.665735",
          "exception": false,
          "start_time": "2021-08-18T17:20:02.610234",
          "status": "completed"
        },
        "tags": [],
        "id": "42db979f"
      },
      "source": [
        "Воспользуемся моделью CatBoost, т.к. у нас несколько категориальных признаков. Данная модель преобразует категориальные признаки в числовые, уменьшает возникновение переобучения, тем самым повышая точность."
      ]
    },
    {
      "cell_type": "code",
      "execution_count": 39,
      "id": "8329c5eb",
      "metadata": {
        "execution": {
          "iopub.execute_input": "2021-08-18T17:20:02.784552Z",
          "iopub.status.busy": "2021-08-18T17:20:02.783686Z",
          "iopub.status.idle": "2021-08-18T17:20:02.787155Z",
          "shell.execute_reply": "2021-08-18T17:20:02.787659Z",
          "shell.execute_reply.started": "2021-08-18T17:12:08.228431Z"
        },
        "papermill": {
          "duration": 0.06544,
          "end_time": "2021-08-18T17:20:02.787810",
          "exception": false,
          "start_time": "2021-08-18T17:20:02.722370",
          "status": "completed"
        },
        "tags": [],
        "colab": {
          "base_uri": "https://localhost:8080/"
        },
        "id": "8329c5eb",
        "outputId": "67e104d1-e6c9-4e88-e065-433ba5c11f65"
      },
      "outputs": [
        {
          "output_type": "execute_result",
          "data": {
            "text/plain": [
              "array([ 0, 10, 11])"
            ]
          },
          "metadata": {},
          "execution_count": 39
        }
      ],
      "source": [
        "# Подготовим массив категориальных признаков по их индексам, т.к. их нужно указать в явном виде при передаче в CatBoost\n",
        "\n",
        "categorical_features_indices = np.where((train_df.dtypes == object))[0]\n",
        "categorical_features_indices"
      ]
    },
    {
      "cell_type": "code",
      "execution_count": 40,
      "id": "8dae49dd",
      "metadata": {
        "execution": {
          "iopub.execute_input": "2021-08-18T17:20:02.902010Z",
          "iopub.status.busy": "2021-08-18T17:20:02.901075Z",
          "iopub.status.idle": "2021-08-18T17:20:02.909990Z",
          "shell.execute_reply": "2021-08-18T17:20:02.910490Z",
          "shell.execute_reply.started": "2021-08-18T17:12:08.237387Z"
        },
        "papermill": {
          "duration": 0.067732,
          "end_time": "2021-08-18T17:20:02.910678",
          "exception": false,
          "start_time": "2021-08-18T17:20:02.842946",
          "status": "completed"
        },
        "tags": [],
        "colab": {
          "base_uri": "https://localhost:8080/"
        },
        "id": "8dae49dd",
        "outputId": "62ca546a-863b-476e-a14c-626e70b4069c"
      },
      "outputs": [
        {
          "output_type": "execute_result",
          "data": {
            "text/plain": [
              "2.6266924564796907"
            ]
          },
          "metadata": {},
          "execution_count": 40
        }
      ],
      "source": [
        "# Подготовим дисбаланс классов по целевому значению (также требуется при передаче в CatBoost)\n",
        "\n",
        "disbalance = y_train.value_counts()[0]/y_train.value_counts()[1]\n",
        "disbalance"
      ]
    },
    {
      "cell_type": "code",
      "execution_count": 41,
      "id": "f0487353",
      "metadata": {
        "execution": {
          "iopub.execute_input": "2021-08-18T17:20:03.026522Z",
          "iopub.status.busy": "2021-08-18T17:20:03.025457Z",
          "iopub.status.idle": "2021-08-18T17:20:09.786085Z",
          "shell.execute_reply": "2021-08-18T17:20:09.786699Z",
          "shell.execute_reply.started": "2021-08-18T17:12:08.251458Z"
        },
        "papermill": {
          "duration": 6.820007,
          "end_time": "2021-08-18T17:20:09.786869",
          "exception": false,
          "start_time": "2021-08-18T17:20:02.966862",
          "status": "completed"
        },
        "tags": [],
        "id": "f0487353"
      },
      "outputs": [],
      "source": [
        "# Применим CatBoost c параметрами по умолчанию\n",
        "\n",
        "model_catb = catb.CatBoostClassifier(silent=True, \n",
        "                                     random_state=42, \n",
        "                                     cat_features=categorical_features_indices,\n",
        "                                     class_weights=[1, disbalance])\n",
        "model_catb.fit(X_train, y_train)\n",
        "\n",
        "y_train_pred = model_catb.predict(X_train)\n",
        "y_test_pred = model_catb.predict(X_valid)\n"
      ]
    },
    {
      "cell_type": "code",
      "source": [
        "# Выведем отчетность применения CatBoost c параметрами по умолчанию\n",
        "\n",
        "get_classification_report(y_train, y_train_pred, y_valid, y_test_pred)"
      ],
      "metadata": {
        "colab": {
          "base_uri": "https://localhost:8080/"
        },
        "id": "D6usiD1DTTUh",
        "outputId": "55911899-f9a2-4292-8d31-4905741b6a11"
      },
      "id": "D6usiD1DTTUh",
      "execution_count": 42,
      "outputs": [
        {
          "output_type": "stream",
          "name": "stdout",
          "text": [
            "TRAIN\n",
            "\n",
            "              precision    recall  f1-score   support\n",
            "\n",
            "           0       0.95      0.87      0.91      4074\n",
            "           1       0.72      0.88      0.79      1551\n",
            "\n",
            "    accuracy                           0.87      5625\n",
            "   macro avg       0.83      0.87      0.85      5625\n",
            "weighted avg       0.89      0.87      0.88      5625\n",
            "\n",
            "TEST\n",
            "\n",
            "              precision    recall  f1-score   support\n",
            "\n",
            "           0       0.81      0.77      0.79      1313\n",
            "           1       0.52      0.58      0.55       562\n",
            "\n",
            "    accuracy                           0.71      1875\n",
            "   macro avg       0.67      0.68      0.67      1875\n",
            "weighted avg       0.72      0.71      0.72      1875\n",
            "\n",
            "CONFUSION MATRIX\n",
            "\n",
            "col_0              0    1\n",
            "Credit Default           \n",
            "0               1016  297\n",
            "1                238  324\n"
          ]
        }
      ]
    },
    {
      "cell_type": "markdown",
      "source": [
        "**Как видно, отличие f1-score на трейне и тесте составляет более 10% для 0 и 1 классов. Налицо явное переобучение.**"
      ],
      "metadata": {
        "id": "sr7nNRvDSe76"
      },
      "id": "sr7nNRvDSe76"
    },
    {
      "cell_type": "markdown",
      "source": [
        "Применим кросс-валидацию на 3 фолда с перемешиванием данных для поиска наилучших параметров CatBoost."
      ],
      "metadata": {
        "id": "jM246R8qT2Ha"
      },
      "id": "jM246R8qT2Ha"
    },
    {
      "cell_type": "code",
      "execution_count": 43,
      "id": "212c76a6",
      "metadata": {
        "execution": {
          "iopub.execute_input": "2021-08-18T17:20:09.903905Z",
          "iopub.status.busy": "2021-08-18T17:20:09.902944Z",
          "iopub.status.idle": "2021-08-18T17:20:09.908686Z",
          "shell.execute_reply": "2021-08-18T17:20:09.908050Z",
          "shell.execute_reply.started": "2021-08-18T17:12:15.170397Z"
        },
        "papermill": {
          "duration": 0.065362,
          "end_time": "2021-08-18T17:20:09.908828",
          "exception": false,
          "start_time": "2021-08-18T17:20:09.843466",
          "status": "completed"
        },
        "tags": [],
        "id": "212c76a6"
      },
      "outputs": [],
      "source": [
        "params = {'n_estimators':[50, 100, 200, 500], \n",
        "          'max_depth':[3, 5, 7, 10],\n",
        "          'learning_rate':[0.001, 0.01, 0.05, 0.1]}"
      ]
    },
    {
      "cell_type": "code",
      "execution_count": 44,
      "id": "1606aab4",
      "metadata": {
        "execution": {
          "iopub.execute_input": "2021-08-18T17:20:10.028328Z",
          "iopub.status.busy": "2021-08-18T17:20:10.027660Z",
          "iopub.status.idle": "2021-08-18T17:20:10.030537Z",
          "shell.execute_reply": "2021-08-18T17:20:10.029895Z",
          "shell.execute_reply.started": "2021-08-18T17:12:15.176323Z"
        },
        "papermill": {
          "duration": 0.063701,
          "end_time": "2021-08-18T17:20:10.030685",
          "exception": false,
          "start_time": "2021-08-18T17:20:09.966984",
          "status": "completed"
        },
        "tags": [],
        "id": "1606aab4"
      },
      "outputs": [],
      "source": [
        "cv=KFold(n_splits=3, random_state=42, shuffle=True)"
      ]
    },
    {
      "cell_type": "code",
      "execution_count": 45,
      "id": "1adc6ccd",
      "metadata": {
        "execution": {
          "iopub.execute_input": "2021-08-18T17:20:10.148285Z",
          "iopub.status.busy": "2021-08-18T17:20:10.147685Z",
          "iopub.status.idle": "2021-08-18T17:21:29.749891Z",
          "shell.execute_reply": "2021-08-18T17:21:29.749339Z",
          "shell.execute_reply.started": "2021-08-18T17:12:15.191561Z"
        },
        "papermill": {
          "duration": 79.663208,
          "end_time": "2021-08-18T17:21:29.750033",
          "exception": false,
          "start_time": "2021-08-18T17:20:10.086825",
          "status": "completed"
        },
        "tags": [],
        "colab": {
          "base_uri": "https://localhost:8080/",
          "height": 152
        },
        "id": "1adc6ccd",
        "outputId": "a85d24ec-ac4b-464d-e457-b25521ab24b0"
      },
      "outputs": [
        {
          "output_type": "stream",
          "name": "stdout",
          "text": [
            "CPU times: user 2.84 s, sys: 387 ms, total: 3.23 s\n",
            "Wall time: 4min 50s\n"
          ]
        },
        {
          "output_type": "execute_result",
          "data": {
            "text/plain": [
              "RandomizedSearchCV(cv=KFold(n_splits=3, random_state=42, shuffle=True),\n",
              "                   estimator=<catboost.core.CatBoostClassifier object at 0x7fba6a8ca050>,\n",
              "                   n_jobs=-1,\n",
              "                   param_distributions={'learning_rate': [0.001, 0.01, 0.05,\n",
              "                                                          0.1],\n",
              "                                        'max_depth': [3, 5, 7, 10],\n",
              "                                        'n_estimators': [50, 100, 200, 500]},\n",
              "                   scoring='f1')"
            ],
            "text/html": [
              "<style>#sk-container-id-1 {color: black;background-color: white;}#sk-container-id-1 pre{padding: 0;}#sk-container-id-1 div.sk-toggleable {background-color: white;}#sk-container-id-1 label.sk-toggleable__label {cursor: pointer;display: block;width: 100%;margin-bottom: 0;padding: 0.3em;box-sizing: border-box;text-align: center;}#sk-container-id-1 label.sk-toggleable__label-arrow:before {content: \"▸\";float: left;margin-right: 0.25em;color: #696969;}#sk-container-id-1 label.sk-toggleable__label-arrow:hover:before {color: black;}#sk-container-id-1 div.sk-estimator:hover label.sk-toggleable__label-arrow:before {color: black;}#sk-container-id-1 div.sk-toggleable__content {max-height: 0;max-width: 0;overflow: hidden;text-align: left;background-color: #f0f8ff;}#sk-container-id-1 div.sk-toggleable__content pre {margin: 0.2em;color: black;border-radius: 0.25em;background-color: #f0f8ff;}#sk-container-id-1 input.sk-toggleable__control:checked~div.sk-toggleable__content {max-height: 200px;max-width: 100%;overflow: auto;}#sk-container-id-1 input.sk-toggleable__control:checked~label.sk-toggleable__label-arrow:before {content: \"▾\";}#sk-container-id-1 div.sk-estimator input.sk-toggleable__control:checked~label.sk-toggleable__label {background-color: #d4ebff;}#sk-container-id-1 div.sk-label input.sk-toggleable__control:checked~label.sk-toggleable__label {background-color: #d4ebff;}#sk-container-id-1 input.sk-hidden--visually {border: 0;clip: rect(1px 1px 1px 1px);clip: rect(1px, 1px, 1px, 1px);height: 1px;margin: -1px;overflow: hidden;padding: 0;position: absolute;width: 1px;}#sk-container-id-1 div.sk-estimator {font-family: monospace;background-color: #f0f8ff;border: 1px dotted black;border-radius: 0.25em;box-sizing: border-box;margin-bottom: 0.5em;}#sk-container-id-1 div.sk-estimator:hover {background-color: #d4ebff;}#sk-container-id-1 div.sk-parallel-item::after {content: \"\";width: 100%;border-bottom: 1px solid gray;flex-grow: 1;}#sk-container-id-1 div.sk-label:hover label.sk-toggleable__label {background-color: #d4ebff;}#sk-container-id-1 div.sk-serial::before {content: \"\";position: absolute;border-left: 1px solid gray;box-sizing: border-box;top: 0;bottom: 0;left: 50%;z-index: 0;}#sk-container-id-1 div.sk-serial {display: flex;flex-direction: column;align-items: center;background-color: white;padding-right: 0.2em;padding-left: 0.2em;position: relative;}#sk-container-id-1 div.sk-item {position: relative;z-index: 1;}#sk-container-id-1 div.sk-parallel {display: flex;align-items: stretch;justify-content: center;background-color: white;position: relative;}#sk-container-id-1 div.sk-item::before, #sk-container-id-1 div.sk-parallel-item::before {content: \"\";position: absolute;border-left: 1px solid gray;box-sizing: border-box;top: 0;bottom: 0;left: 50%;z-index: -1;}#sk-container-id-1 div.sk-parallel-item {display: flex;flex-direction: column;z-index: 1;position: relative;background-color: white;}#sk-container-id-1 div.sk-parallel-item:first-child::after {align-self: flex-end;width: 50%;}#sk-container-id-1 div.sk-parallel-item:last-child::after {align-self: flex-start;width: 50%;}#sk-container-id-1 div.sk-parallel-item:only-child::after {width: 0;}#sk-container-id-1 div.sk-dashed-wrapped {border: 1px dashed gray;margin: 0 0.4em 0.5em 0.4em;box-sizing: border-box;padding-bottom: 0.4em;background-color: white;}#sk-container-id-1 div.sk-label label {font-family: monospace;font-weight: bold;display: inline-block;line-height: 1.2em;}#sk-container-id-1 div.sk-label-container {text-align: center;}#sk-container-id-1 div.sk-container {/* jupyter's `normalize.less` sets `[hidden] { display: none; }` but bootstrap.min.css set `[hidden] { display: none !important; }` so we also need the `!important` here to be able to override the default hidden behavior on the sphinx rendered scikit-learn.org. See: https://github.com/scikit-learn/scikit-learn/issues/21755 */display: inline-block !important;position: relative;}#sk-container-id-1 div.sk-text-repr-fallback {display: none;}</style><div id=\"sk-container-id-1\" class=\"sk-top-container\"><div class=\"sk-text-repr-fallback\"><pre>RandomizedSearchCV(cv=KFold(n_splits=3, random_state=42, shuffle=True),\n",
              "                   estimator=&lt;catboost.core.CatBoostClassifier object at 0x7fba6a8ca050&gt;,\n",
              "                   n_jobs=-1,\n",
              "                   param_distributions={&#x27;learning_rate&#x27;: [0.001, 0.01, 0.05,\n",
              "                                                          0.1],\n",
              "                                        &#x27;max_depth&#x27;: [3, 5, 7, 10],\n",
              "                                        &#x27;n_estimators&#x27;: [50, 100, 200, 500]},\n",
              "                   scoring=&#x27;f1&#x27;)</pre><b>In a Jupyter environment, please rerun this cell to show the HTML representation or trust the notebook. <br />On GitHub, the HTML representation is unable to render, please try loading this page with nbviewer.org.</b></div><div class=\"sk-container\" hidden><div class=\"sk-item sk-dashed-wrapped\"><div class=\"sk-label-container\"><div class=\"sk-label sk-toggleable\"><input class=\"sk-toggleable__control sk-hidden--visually\" id=\"sk-estimator-id-1\" type=\"checkbox\" ><label for=\"sk-estimator-id-1\" class=\"sk-toggleable__label sk-toggleable__label-arrow\">RandomizedSearchCV</label><div class=\"sk-toggleable__content\"><pre>RandomizedSearchCV(cv=KFold(n_splits=3, random_state=42, shuffle=True),\n",
              "                   estimator=&lt;catboost.core.CatBoostClassifier object at 0x7fba6a8ca050&gt;,\n",
              "                   n_jobs=-1,\n",
              "                   param_distributions={&#x27;learning_rate&#x27;: [0.001, 0.01, 0.05,\n",
              "                                                          0.1],\n",
              "                                        &#x27;max_depth&#x27;: [3, 5, 7, 10],\n",
              "                                        &#x27;n_estimators&#x27;: [50, 100, 200, 500]},\n",
              "                   scoring=&#x27;f1&#x27;)</pre></div></div></div><div class=\"sk-parallel\"><div class=\"sk-parallel-item\"><div class=\"sk-item\"><div class=\"sk-label-container\"><div class=\"sk-label sk-toggleable\"><input class=\"sk-toggleable__control sk-hidden--visually\" id=\"sk-estimator-id-2\" type=\"checkbox\" ><label for=\"sk-estimator-id-2\" class=\"sk-toggleable__label sk-toggleable__label-arrow\">estimator: CatBoostClassifier</label><div class=\"sk-toggleable__content\"><pre>&lt;catboost.core.CatBoostClassifier object at 0x7fba6a8ca050&gt;</pre></div></div></div><div class=\"sk-serial\"><div class=\"sk-item\"><div class=\"sk-estimator sk-toggleable\"><input class=\"sk-toggleable__control sk-hidden--visually\" id=\"sk-estimator-id-3\" type=\"checkbox\" ><label for=\"sk-estimator-id-3\" class=\"sk-toggleable__label sk-toggleable__label-arrow\">CatBoostClassifier</label><div class=\"sk-toggleable__content\"><pre>&lt;catboost.core.CatBoostClassifier object at 0x7fba6a8ca050&gt;</pre></div></div></div></div></div></div></div></div></div></div>"
            ]
          },
          "metadata": {},
          "execution_count": 45
        }
      ],
      "source": [
        "%%time\n",
        "\n",
        "rs = RandomizedSearchCV(model_catb, params, scoring='f1', cv=cv, n_jobs=-1)\n",
        "rs.fit(X_train, y_train)"
      ]
    },
    {
      "cell_type": "code",
      "execution_count": 46,
      "id": "443280c6",
      "metadata": {
        "execution": {
          "iopub.execute_input": "2021-08-18T17:21:29.870752Z",
          "iopub.status.busy": "2021-08-18T17:21:29.870107Z",
          "iopub.status.idle": "2021-08-18T17:21:29.873903Z",
          "shell.execute_reply": "2021-08-18T17:21:29.874504Z",
          "shell.execute_reply.started": "2021-08-18T17:13:51.646752Z"
        },
        "papermill": {
          "duration": 0.067328,
          "end_time": "2021-08-18T17:21:29.874688",
          "exception": false,
          "start_time": "2021-08-18T17:21:29.807360",
          "status": "completed"
        },
        "tags": [],
        "colab": {
          "base_uri": "https://localhost:8080/"
        },
        "id": "443280c6",
        "outputId": "3480a79d-2ebf-40b3-f3e1-3a2a87400931"
      },
      "outputs": [
        {
          "output_type": "execute_result",
          "data": {
            "text/plain": [
              "{'n_estimators': 50, 'max_depth': 7, 'learning_rate': 0.1}"
            ]
          },
          "metadata": {},
          "execution_count": 46
        }
      ],
      "source": [
        "rs.best_params_"
      ]
    },
    {
      "cell_type": "code",
      "execution_count": 47,
      "id": "b9a1d7e9",
      "metadata": {
        "execution": {
          "iopub.execute_input": "2021-08-18T17:21:29.995040Z",
          "iopub.status.busy": "2021-08-18T17:21:29.994423Z",
          "iopub.status.idle": "2021-08-18T17:21:29.998598Z",
          "shell.execute_reply": "2021-08-18T17:21:29.998134Z",
          "shell.execute_reply.started": "2021-08-18T17:13:51.654751Z"
        },
        "papermill": {
          "duration": 0.066451,
          "end_time": "2021-08-18T17:21:29.998716",
          "exception": false,
          "start_time": "2021-08-18T17:21:29.932265",
          "status": "completed"
        },
        "tags": [],
        "colab": {
          "base_uri": "https://localhost:8080/"
        },
        "id": "b9a1d7e9",
        "outputId": "086c5d9e-1a33-4eb8-815b-5989d67242e1"
      },
      "outputs": [
        {
          "output_type": "execute_result",
          "data": {
            "text/plain": [
              "0.5358596696106716"
            ]
          },
          "metadata": {},
          "execution_count": 47
        }
      ],
      "source": [
        "rs.best_score_"
      ]
    },
    {
      "cell_type": "code",
      "execution_count": 48,
      "id": "7ea73011",
      "metadata": {
        "execution": {
          "iopub.execute_input": "2021-08-18T17:21:30.135466Z",
          "iopub.status.busy": "2021-08-18T17:21:30.134517Z",
          "iopub.status.idle": "2021-08-18T17:21:32.963835Z",
          "shell.execute_reply": "2021-08-18T17:21:32.963260Z",
          "shell.execute_reply.started": "2021-08-18T17:18:28.821061Z"
        },
        "papermill": {
          "duration": 2.907621,
          "end_time": "2021-08-18T17:21:32.963970",
          "exception": false,
          "start_time": "2021-08-18T17:21:30.056349",
          "status": "completed"
        },
        "tags": [],
        "colab": {
          "base_uri": "https://localhost:8080/"
        },
        "id": "7ea73011",
        "outputId": "788062ec-96d4-4325-baeb-cb45e592c5d2"
      },
      "outputs": [
        {
          "output_type": "stream",
          "name": "stdout",
          "text": [
            "TRAIN\n",
            "\n",
            "              precision    recall  f1-score   support\n",
            "\n",
            "           0       0.86      0.78      0.82      4074\n",
            "           1       0.53      0.67      0.59      1551\n",
            "\n",
            "    accuracy                           0.75      5625\n",
            "   macro avg       0.70      0.72      0.70      5625\n",
            "weighted avg       0.77      0.75      0.75      5625\n",
            "\n",
            "TEST\n",
            "\n",
            "              precision    recall  f1-score   support\n",
            "\n",
            "           0       0.82      0.75      0.78      1313\n",
            "           1       0.51      0.61      0.56       562\n",
            "\n",
            "    accuracy                           0.71      1875\n",
            "   macro avg       0.66      0.68      0.67      1875\n",
            "weighted avg       0.73      0.71      0.71      1875\n",
            "\n",
            "CONFUSION MATRIX\n",
            "\n",
            "col_0             0    1\n",
            "Credit Default          \n",
            "0               984  329\n",
            "1               219  343\n"
          ]
        }
      ],
      "source": [
        "# Применим найденные параметры в финальной модели\n",
        "\n",
        "final_model = catb.CatBoostClassifier(n_estimators=500, \n",
        "                                      max_depth=5, \n",
        "                                      learning_rate=0.01,\n",
        "                                      silent=True, \n",
        "                                      random_state=42, \n",
        "                                      cat_features=categorical_features_indices,\n",
        "                                      class_weights=[1, disbalance])\n",
        "final_model.fit(X_train, y_train)\n",
        "\n",
        "y_train_pred = final_model.predict(X_train)\n",
        "y_test_pred = final_model.predict(X_valid)\n",
        "\n",
        "get_classification_report(y_train, y_train_pred, y_valid, y_test_pred)"
      ]
    },
    {
      "cell_type": "markdown",
      "source": [
        "**Теперь расхождение по f1-score на трейне и валидации для обоих классов составляет несколько процентов, что свидетельтсвует о минимуме переобучения.**\n",
        "\n",
        "**Метрики precicion, recall и f1-score соответствуют заданию проекта.**\n"
      ],
      "metadata": {
        "id": "O80JBd5sU9Ci"
      },
      "id": "O80JBd5sU9Ci"
    },
    {
      "cell_type": "markdown",
      "source": [
        "# **Вывод результата**"
      ],
      "metadata": {
        "id": "Y0yDfdWfloKx"
      },
      "id": "Y0yDfdWfloKx"
    },
    {
      "cell_type": "markdown",
      "source": [
        "Применим final_model для предсказания на тестовом датасете и выведем результат в csv."
      ],
      "metadata": {
        "id": "tqWPiC-0lolg"
      },
      "id": "tqWPiC-0lolg"
    },
    {
      "cell_type": "code",
      "source": [
        "test_df[\"Credit Default\"] = final_model.predict(test_df)"
      ],
      "metadata": {
        "id": "hetRAn6rjrxI"
      },
      "id": "hetRAn6rjrxI",
      "execution_count": 49,
      "outputs": []
    },
    {
      "cell_type": "code",
      "source": [
        "test_df.info()"
      ],
      "metadata": {
        "colab": {
          "base_uri": "https://localhost:8080/"
        },
        "id": "2iHNL_itkCB_",
        "outputId": "9051abcb-a825-42a6-f2d5-6e2c045d4478"
      },
      "id": "2iHNL_itkCB_",
      "execution_count": 50,
      "outputs": [
        {
          "output_type": "stream",
          "name": "stdout",
          "text": [
            "<class 'pandas.core.frame.DataFrame'>\n",
            "RangeIndex: 2500 entries, 0 to 2499\n",
            "Data columns (total 17 columns):\n",
            " #   Column                        Non-Null Count  Dtype  \n",
            "---  ------                        --------------  -----  \n",
            " 0   Home Ownership                2500 non-null   object \n",
            " 1   Annual Income                 2500 non-null   float64\n",
            " 2   Years in current job          2500 non-null   int64  \n",
            " 3   Tax Liens                     2500 non-null   float64\n",
            " 4   Number of Open Accounts       2500 non-null   float64\n",
            " 5   Years of Credit History       2500 non-null   float64\n",
            " 6   Maximum Open Credit           2500 non-null   float64\n",
            " 7   Number of Credit Problems     2500 non-null   float64\n",
            " 8   Months since last delinquent  2500 non-null   float64\n",
            " 9   Bankruptcies                  2500 non-null   float64\n",
            " 10  Purpose                       2500 non-null   object \n",
            " 11  Term                          2500 non-null   object \n",
            " 12  Current Loan Amount           2500 non-null   float64\n",
            " 13  Current Credit Balance        2500 non-null   float64\n",
            " 14  Monthly Debt                  2500 non-null   float64\n",
            " 15  Credit Score                  2500 non-null   float64\n",
            " 16  Credit Default                2500 non-null   int64  \n",
            "dtypes: float64(12), int64(2), object(3)\n",
            "memory usage: 332.2+ KB\n"
          ]
        }
      ]
    },
    {
      "cell_type": "code",
      "source": [
        "test_df.head(10)"
      ],
      "metadata": {
        "colab": {
          "base_uri": "https://localhost:8080/",
          "height": 615
        },
        "id": "4x-Fy2IOkzcQ",
        "outputId": "85f99e9f-7c6b-441a-ec2d-a10829cd7c29"
      },
      "id": "4x-Fy2IOkzcQ",
      "execution_count": 55,
      "outputs": [
        {
          "output_type": "execute_result",
          "data": {
            "text/plain": [
              "  Home Ownership  Annual Income  Years in current job  Tax Liens  \\\n",
              "0           Rent   1.366922e+06                     5        0.0   \n",
              "1           Rent   2.318380e+05                     2        0.0   \n",
              "2  Home Mortgage   1.152540e+06                     4        0.0   \n",
              "3  Home Mortgage   1.220313e+06                    11        0.0   \n",
              "4  Home Mortgage   2.340952e+06                     7        0.0   \n",
              "5  Home Mortgage   9.225830e+05                     6        0.0   \n",
              "6  Home Mortgage   1.233309e+06                     4        0.0   \n",
              "7           Rent   1.215867e+06                     4        0.0   \n",
              "8           Rent   1.366922e+06                     6        0.0   \n",
              "9  Home Mortgage   2.140445e+06                    11        1.0   \n",
              "\n",
              "   Number of Open Accounts  Years of Credit History  Maximum Open Credit  \\\n",
              "0                      9.0                     12.5             220968.0   \n",
              "1                      6.0                     32.7              55946.0   \n",
              "2                     10.0                     13.7             204600.0   \n",
              "3                     16.0                     17.0             456302.0   \n",
              "4                     11.0                     23.6            1207272.0   \n",
              "5                     26.0                     17.5             713174.0   \n",
              "6                      7.0                     22.0             376420.0   \n",
              "7                     13.0                     12.2             195888.0   \n",
              "8                      8.0                      9.1             370524.0   \n",
              "9                     15.0                     16.7             867680.0   \n",
              "\n",
              "   Number of Credit Problems  Months since last delinquent  Bankruptcies  \\\n",
              "0                        0.0                          70.0           0.0   \n",
              "1                        0.0                           8.0           0.0   \n",
              "2                        0.0                           0.0           0.0   \n",
              "3                        0.0                          70.0           0.0   \n",
              "4                        0.0                           0.0           0.0   \n",
              "5                        0.0                          41.0           0.0   \n",
              "6                        0.0                          43.0           0.0   \n",
              "7                        0.0                          19.0           0.0   \n",
              "8                        0.0                           0.0           0.0   \n",
              "9                        1.0                           9.0           0.0   \n",
              "\n",
              "                Purpose        Term  Current Loan Amount  \\\n",
              "0    debt consolidation  Short Term             162470.0   \n",
              "1  educational expenses  Short Term              78298.0   \n",
              "2    debt consolidation  Short Term             200178.0   \n",
              "3    debt consolidation  Short Term             217382.0   \n",
              "4    debt consolidation   Long Term             777634.0   \n",
              "5    debt consolidation  Short Term              94028.0   \n",
              "6     home improvements  Short Term             454388.0   \n",
              "7    debt consolidation  Short Term             407726.0   \n",
              "8        major purchase  Short Term             131956.0   \n",
              "9    debt consolidation  Short Term             391336.0   \n",
              "\n",
              "   Current Credit Balance  Monthly Debt  Credit Score  Credit Default  \n",
              "0                105906.0        6813.0           0.0               0  \n",
              "1                 46037.0        2318.0         699.0               1  \n",
              "2                146490.0       18729.0        7260.0               1  \n",
              "3                213199.0       27559.0         739.0               1  \n",
              "4                425391.0       42605.0         706.0               1  \n",
              "5                135508.0       11148.0         679.0               1  \n",
              "6                292904.0        8181.0         685.0               1  \n",
              "7                120099.0        7599.0         701.0               1  \n",
              "8                237747.0       10112.0           0.0               0  \n",
              "9                294500.0       18372.0         745.0               1  "
            ],
            "text/html": [
              "\n",
              "  <div id=\"df-c2b0fd1f-8dd5-4bbf-90e5-67ccf5efbceb\">\n",
              "    <div class=\"colab-df-container\">\n",
              "      <div>\n",
              "<style scoped>\n",
              "    .dataframe tbody tr th:only-of-type {\n",
              "        vertical-align: middle;\n",
              "    }\n",
              "\n",
              "    .dataframe tbody tr th {\n",
              "        vertical-align: top;\n",
              "    }\n",
              "\n",
              "    .dataframe thead th {\n",
              "        text-align: right;\n",
              "    }\n",
              "</style>\n",
              "<table border=\"1\" class=\"dataframe\">\n",
              "  <thead>\n",
              "    <tr style=\"text-align: right;\">\n",
              "      <th></th>\n",
              "      <th>Home Ownership</th>\n",
              "      <th>Annual Income</th>\n",
              "      <th>Years in current job</th>\n",
              "      <th>Tax Liens</th>\n",
              "      <th>Number of Open Accounts</th>\n",
              "      <th>Years of Credit History</th>\n",
              "      <th>Maximum Open Credit</th>\n",
              "      <th>Number of Credit Problems</th>\n",
              "      <th>Months since last delinquent</th>\n",
              "      <th>Bankruptcies</th>\n",
              "      <th>Purpose</th>\n",
              "      <th>Term</th>\n",
              "      <th>Current Loan Amount</th>\n",
              "      <th>Current Credit Balance</th>\n",
              "      <th>Monthly Debt</th>\n",
              "      <th>Credit Score</th>\n",
              "      <th>Credit Default</th>\n",
              "    </tr>\n",
              "  </thead>\n",
              "  <tbody>\n",
              "    <tr>\n",
              "      <th>0</th>\n",
              "      <td>Rent</td>\n",
              "      <td>1.366922e+06</td>\n",
              "      <td>5</td>\n",
              "      <td>0.0</td>\n",
              "      <td>9.0</td>\n",
              "      <td>12.5</td>\n",
              "      <td>220968.0</td>\n",
              "      <td>0.0</td>\n",
              "      <td>70.0</td>\n",
              "      <td>0.0</td>\n",
              "      <td>debt consolidation</td>\n",
              "      <td>Short Term</td>\n",
              "      <td>162470.0</td>\n",
              "      <td>105906.0</td>\n",
              "      <td>6813.0</td>\n",
              "      <td>0.0</td>\n",
              "      <td>0</td>\n",
              "    </tr>\n",
              "    <tr>\n",
              "      <th>1</th>\n",
              "      <td>Rent</td>\n",
              "      <td>2.318380e+05</td>\n",
              "      <td>2</td>\n",
              "      <td>0.0</td>\n",
              "      <td>6.0</td>\n",
              "      <td>32.7</td>\n",
              "      <td>55946.0</td>\n",
              "      <td>0.0</td>\n",
              "      <td>8.0</td>\n",
              "      <td>0.0</td>\n",
              "      <td>educational expenses</td>\n",
              "      <td>Short Term</td>\n",
              "      <td>78298.0</td>\n",
              "      <td>46037.0</td>\n",
              "      <td>2318.0</td>\n",
              "      <td>699.0</td>\n",
              "      <td>1</td>\n",
              "    </tr>\n",
              "    <tr>\n",
              "      <th>2</th>\n",
              "      <td>Home Mortgage</td>\n",
              "      <td>1.152540e+06</td>\n",
              "      <td>4</td>\n",
              "      <td>0.0</td>\n",
              "      <td>10.0</td>\n",
              "      <td>13.7</td>\n",
              "      <td>204600.0</td>\n",
              "      <td>0.0</td>\n",
              "      <td>0.0</td>\n",
              "      <td>0.0</td>\n",
              "      <td>debt consolidation</td>\n",
              "      <td>Short Term</td>\n",
              "      <td>200178.0</td>\n",
              "      <td>146490.0</td>\n",
              "      <td>18729.0</td>\n",
              "      <td>7260.0</td>\n",
              "      <td>1</td>\n",
              "    </tr>\n",
              "    <tr>\n",
              "      <th>3</th>\n",
              "      <td>Home Mortgage</td>\n",
              "      <td>1.220313e+06</td>\n",
              "      <td>11</td>\n",
              "      <td>0.0</td>\n",
              "      <td>16.0</td>\n",
              "      <td>17.0</td>\n",
              "      <td>456302.0</td>\n",
              "      <td>0.0</td>\n",
              "      <td>70.0</td>\n",
              "      <td>0.0</td>\n",
              "      <td>debt consolidation</td>\n",
              "      <td>Short Term</td>\n",
              "      <td>217382.0</td>\n",
              "      <td>213199.0</td>\n",
              "      <td>27559.0</td>\n",
              "      <td>739.0</td>\n",
              "      <td>1</td>\n",
              "    </tr>\n",
              "    <tr>\n",
              "      <th>4</th>\n",
              "      <td>Home Mortgage</td>\n",
              "      <td>2.340952e+06</td>\n",
              "      <td>7</td>\n",
              "      <td>0.0</td>\n",
              "      <td>11.0</td>\n",
              "      <td>23.6</td>\n",
              "      <td>1207272.0</td>\n",
              "      <td>0.0</td>\n",
              "      <td>0.0</td>\n",
              "      <td>0.0</td>\n",
              "      <td>debt consolidation</td>\n",
              "      <td>Long Term</td>\n",
              "      <td>777634.0</td>\n",
              "      <td>425391.0</td>\n",
              "      <td>42605.0</td>\n",
              "      <td>706.0</td>\n",
              "      <td>1</td>\n",
              "    </tr>\n",
              "    <tr>\n",
              "      <th>5</th>\n",
              "      <td>Home Mortgage</td>\n",
              "      <td>9.225830e+05</td>\n",
              "      <td>6</td>\n",
              "      <td>0.0</td>\n",
              "      <td>26.0</td>\n",
              "      <td>17.5</td>\n",
              "      <td>713174.0</td>\n",
              "      <td>0.0</td>\n",
              "      <td>41.0</td>\n",
              "      <td>0.0</td>\n",
              "      <td>debt consolidation</td>\n",
              "      <td>Short Term</td>\n",
              "      <td>94028.0</td>\n",
              "      <td>135508.0</td>\n",
              "      <td>11148.0</td>\n",
              "      <td>679.0</td>\n",
              "      <td>1</td>\n",
              "    </tr>\n",
              "    <tr>\n",
              "      <th>6</th>\n",
              "      <td>Home Mortgage</td>\n",
              "      <td>1.233309e+06</td>\n",
              "      <td>4</td>\n",
              "      <td>0.0</td>\n",
              "      <td>7.0</td>\n",
              "      <td>22.0</td>\n",
              "      <td>376420.0</td>\n",
              "      <td>0.0</td>\n",
              "      <td>43.0</td>\n",
              "      <td>0.0</td>\n",
              "      <td>home improvements</td>\n",
              "      <td>Short Term</td>\n",
              "      <td>454388.0</td>\n",
              "      <td>292904.0</td>\n",
              "      <td>8181.0</td>\n",
              "      <td>685.0</td>\n",
              "      <td>1</td>\n",
              "    </tr>\n",
              "    <tr>\n",
              "      <th>7</th>\n",
              "      <td>Rent</td>\n",
              "      <td>1.215867e+06</td>\n",
              "      <td>4</td>\n",
              "      <td>0.0</td>\n",
              "      <td>13.0</td>\n",
              "      <td>12.2</td>\n",
              "      <td>195888.0</td>\n",
              "      <td>0.0</td>\n",
              "      <td>19.0</td>\n",
              "      <td>0.0</td>\n",
              "      <td>debt consolidation</td>\n",
              "      <td>Short Term</td>\n",
              "      <td>407726.0</td>\n",
              "      <td>120099.0</td>\n",
              "      <td>7599.0</td>\n",
              "      <td>701.0</td>\n",
              "      <td>1</td>\n",
              "    </tr>\n",
              "    <tr>\n",
              "      <th>8</th>\n",
              "      <td>Rent</td>\n",
              "      <td>1.366922e+06</td>\n",
              "      <td>6</td>\n",
              "      <td>0.0</td>\n",
              "      <td>8.0</td>\n",
              "      <td>9.1</td>\n",
              "      <td>370524.0</td>\n",
              "      <td>0.0</td>\n",
              "      <td>0.0</td>\n",
              "      <td>0.0</td>\n",
              "      <td>major purchase</td>\n",
              "      <td>Short Term</td>\n",
              "      <td>131956.0</td>\n",
              "      <td>237747.0</td>\n",
              "      <td>10112.0</td>\n",
              "      <td>0.0</td>\n",
              "      <td>0</td>\n",
              "    </tr>\n",
              "    <tr>\n",
              "      <th>9</th>\n",
              "      <td>Home Mortgage</td>\n",
              "      <td>2.140445e+06</td>\n",
              "      <td>11</td>\n",
              "      <td>1.0</td>\n",
              "      <td>15.0</td>\n",
              "      <td>16.7</td>\n",
              "      <td>867680.0</td>\n",
              "      <td>1.0</td>\n",
              "      <td>9.0</td>\n",
              "      <td>0.0</td>\n",
              "      <td>debt consolidation</td>\n",
              "      <td>Short Term</td>\n",
              "      <td>391336.0</td>\n",
              "      <td>294500.0</td>\n",
              "      <td>18372.0</td>\n",
              "      <td>745.0</td>\n",
              "      <td>1</td>\n",
              "    </tr>\n",
              "  </tbody>\n",
              "</table>\n",
              "</div>\n",
              "      <button class=\"colab-df-convert\" onclick=\"convertToInteractive('df-c2b0fd1f-8dd5-4bbf-90e5-67ccf5efbceb')\"\n",
              "              title=\"Convert this dataframe to an interactive table.\"\n",
              "              style=\"display:none;\">\n",
              "        \n",
              "  <svg xmlns=\"http://www.w3.org/2000/svg\" height=\"24px\"viewBox=\"0 0 24 24\"\n",
              "       width=\"24px\">\n",
              "    <path d=\"M0 0h24v24H0V0z\" fill=\"none\"/>\n",
              "    <path d=\"M18.56 5.44l.94 2.06.94-2.06 2.06-.94-2.06-.94-.94-2.06-.94 2.06-2.06.94zm-11 1L8.5 8.5l.94-2.06 2.06-.94-2.06-.94L8.5 2.5l-.94 2.06-2.06.94zm10 10l.94 2.06.94-2.06 2.06-.94-2.06-.94-.94-2.06-.94 2.06-2.06.94z\"/><path d=\"M17.41 7.96l-1.37-1.37c-.4-.4-.92-.59-1.43-.59-.52 0-1.04.2-1.43.59L10.3 9.45l-7.72 7.72c-.78.78-.78 2.05 0 2.83L4 21.41c.39.39.9.59 1.41.59.51 0 1.02-.2 1.41-.59l7.78-7.78 2.81-2.81c.8-.78.8-2.07 0-2.86zM5.41 20L4 18.59l7.72-7.72 1.47 1.35L5.41 20z\"/>\n",
              "  </svg>\n",
              "      </button>\n",
              "      \n",
              "  <style>\n",
              "    .colab-df-container {\n",
              "      display:flex;\n",
              "      flex-wrap:wrap;\n",
              "      gap: 12px;\n",
              "    }\n",
              "\n",
              "    .colab-df-convert {\n",
              "      background-color: #E8F0FE;\n",
              "      border: none;\n",
              "      border-radius: 50%;\n",
              "      cursor: pointer;\n",
              "      display: none;\n",
              "      fill: #1967D2;\n",
              "      height: 32px;\n",
              "      padding: 0 0 0 0;\n",
              "      width: 32px;\n",
              "    }\n",
              "\n",
              "    .colab-df-convert:hover {\n",
              "      background-color: #E2EBFA;\n",
              "      box-shadow: 0px 1px 2px rgba(60, 64, 67, 0.3), 0px 1px 3px 1px rgba(60, 64, 67, 0.15);\n",
              "      fill: #174EA6;\n",
              "    }\n",
              "\n",
              "    [theme=dark] .colab-df-convert {\n",
              "      background-color: #3B4455;\n",
              "      fill: #D2E3FC;\n",
              "    }\n",
              "\n",
              "    [theme=dark] .colab-df-convert:hover {\n",
              "      background-color: #434B5C;\n",
              "      box-shadow: 0px 1px 3px 1px rgba(0, 0, 0, 0.15);\n",
              "      filter: drop-shadow(0px 1px 2px rgba(0, 0, 0, 0.3));\n",
              "      fill: #FFFFFF;\n",
              "    }\n",
              "  </style>\n",
              "\n",
              "      <script>\n",
              "        const buttonEl =\n",
              "          document.querySelector('#df-c2b0fd1f-8dd5-4bbf-90e5-67ccf5efbceb button.colab-df-convert');\n",
              "        buttonEl.style.display =\n",
              "          google.colab.kernel.accessAllowed ? 'block' : 'none';\n",
              "\n",
              "        async function convertToInteractive(key) {\n",
              "          const element = document.querySelector('#df-c2b0fd1f-8dd5-4bbf-90e5-67ccf5efbceb');\n",
              "          const dataTable =\n",
              "            await google.colab.kernel.invokeFunction('convertToInteractive',\n",
              "                                                     [key], {});\n",
              "          if (!dataTable) return;\n",
              "\n",
              "          const docLinkHtml = 'Like what you see? Visit the ' +\n",
              "            '<a target=\"_blank\" href=https://colab.research.google.com/notebooks/data_table.ipynb>data table notebook</a>'\n",
              "            + ' to learn more about interactive tables.';\n",
              "          element.innerHTML = '';\n",
              "          dataTable['output_type'] = 'display_data';\n",
              "          await google.colab.output.renderOutput(dataTable, element);\n",
              "          const docLink = document.createElement('div');\n",
              "          docLink.innerHTML = docLinkHtml;\n",
              "          element.appendChild(docLink);\n",
              "        }\n",
              "      </script>\n",
              "    </div>\n",
              "  </div>\n",
              "  "
            ]
          },
          "metadata": {},
          "execution_count": 55
        }
      ]
    },
    {
      "cell_type": "code",
      "source": [
        "test_df.to_csv('/content/sample_data/AIvanov_predictions.csv', sep = ',', index=False)"
      ],
      "metadata": {
        "id": "byFba0tykzgP"
      },
      "id": "byFba0tykzgP",
      "execution_count": 54,
      "outputs": []
    }
  ],
  "metadata": {
    "kernelspec": {
      "display_name": "Python 3",
      "language": "python",
      "name": "python3"
    },
    "language_info": {
      "codemirror_mode": {
        "name": "ipython",
        "version": 3
      },
      "file_extension": ".py",
      "mimetype": "text/x-python",
      "name": "python",
      "nbconvert_exporter": "python",
      "pygments_lexer": "ipython3",
      "version": "3.7.10"
    },
    "papermill": {
      "default_parameters": {},
      "duration": 108.816917,
      "end_time": "2021-08-18T17:21:34.719840",
      "environment_variables": {},
      "exception": null,
      "input_path": "__notebook__.ipynb",
      "output_path": "__notebook__.ipynb",
      "parameters": {},
      "start_time": "2021-08-18T17:19:45.902923",
      "version": "2.3.3"
    },
    "colab": {
      "provenance": []
    }
  },
  "nbformat": 4,
  "nbformat_minor": 5
}
